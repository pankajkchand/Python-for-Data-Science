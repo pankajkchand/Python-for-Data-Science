{
 "cells": [
  {
   "cell_type": "markdown",
   "id": "38163e2f-ddca-4961-8872-d3f5f955147b",
   "metadata": {},
   "source": [
    "## Data Preprocessing of Laptops\n",
    "#### Step-0\n",
    "* First of all to perform all actions we have to import pandas, numpy, matplotlib and seaborn.\n",
    "* For smooth conduct of preprocessing we are ignoring warnings, for this we have to import warnings and apply warnings.filterwarnings(\"ignore\")."
   ]
  },
  {
   "cell_type": "code",
   "execution_count": 1,
   "id": "85c25f36-4048-49b5-af73-bd44a4e684ed",
   "metadata": {},
   "outputs": [],
   "source": [
    "import pandas as pd\n",
    "import numpy as np\n",
    "import matplotlib.pyplot as plt\n",
    "import seaborn as sns\n",
    "import warnings\n",
    "warnings.filterwarnings(\"ignore\")"
   ]
  },
  {
   "cell_type": "markdown",
   "id": "48a7cafb-b49e-4991-b8fe-a96348221bff",
   "metadata": {},
   "source": [
    "#### Step-1\n",
    "* First of all we have to insert data using read_csv or read_excel function of pandas.for this we have to make a dataframe, here we have taken this as data.\n",
    "* Then we have to copy the data as df to keep the actual data as it is.\n",
    "* To see the top 5 rows we have applied df.head()."
   ]
  },
  {
   "cell_type": "code",
   "execution_count": 2,
   "id": "556239fc-3332-498f-a32c-23d9df2f705f",
   "metadata": {},
   "outputs": [
    {
     "data": {
      "text/html": [
       "<div>\n",
       "<style scoped>\n",
       "    .dataframe tbody tr th:only-of-type {\n",
       "        vertical-align: middle;\n",
       "    }\n",
       "\n",
       "    .dataframe tbody tr th {\n",
       "        vertical-align: top;\n",
       "    }\n",
       "\n",
       "    .dataframe thead th {\n",
       "        text-align: right;\n",
       "    }\n",
       "</style>\n",
       "<table border=\"1\" class=\"dataframe\">\n",
       "  <thead>\n",
       "    <tr style=\"text-align: right;\">\n",
       "      <th></th>\n",
       "      <th>CompanyName</th>\n",
       "      <th>TypeOfLaptop</th>\n",
       "      <th>Inches</th>\n",
       "      <th>ScreenResolution</th>\n",
       "      <th>Cpu</th>\n",
       "      <th>Ram</th>\n",
       "      <th>Memory</th>\n",
       "      <th>Gpu</th>\n",
       "      <th>OpSys</th>\n",
       "      <th>Weight</th>\n",
       "      <th>Price</th>\n",
       "    </tr>\n",
       "  </thead>\n",
       "  <tbody>\n",
       "    <tr>\n",
       "      <th>0</th>\n",
       "      <td>MSI</td>\n",
       "      <td>Business Laptop</td>\n",
       "      <td>17.040680</td>\n",
       "      <td>IPS Panel Retina Display 2560x1600</td>\n",
       "      <td>Intel Core i7</td>\n",
       "      <td>12GB</td>\n",
       "      <td>512GB SSD</td>\n",
       "      <td>Intel Iris Xe Graphics</td>\n",
       "      <td>Linux</td>\n",
       "      <td>2.064834</td>\n",
       "      <td>35844.099371</td>\n",
       "    </tr>\n",
       "    <tr>\n",
       "      <th>1</th>\n",
       "      <td>Chuwi</td>\n",
       "      <td>2 in 1 Convertible</td>\n",
       "      <td>16.542395</td>\n",
       "      <td>Full HD</td>\n",
       "      <td>Intel Core i5</td>\n",
       "      <td>12GB</td>\n",
       "      <td>128GB PCIe SSD</td>\n",
       "      <td>Intel Iris Xe Graphics</td>\n",
       "      <td>No OS</td>\n",
       "      <td>4.060656</td>\n",
       "      <td>37019.059051</td>\n",
       "    </tr>\n",
       "    <tr>\n",
       "      <th>2</th>\n",
       "      <td>hp</td>\n",
       "      <td>WorkStation</td>\n",
       "      <td>17.295294</td>\n",
       "      <td>Full HD</td>\n",
       "      <td>Intel Xeon E3-1505M</td>\n",
       "      <td>8GB</td>\n",
       "      <td>1TB HDD</td>\n",
       "      <td>Intel Iris Xe Graphics</td>\n",
       "      <td>Linux</td>\n",
       "      <td>2.901689</td>\n",
       "      <td>33329.360341</td>\n",
       "    </tr>\n",
       "    <tr>\n",
       "      <th>3</th>\n",
       "      <td>MSI</td>\n",
       "      <td>2 in 1 Convertible</td>\n",
       "      <td>11.526203</td>\n",
       "      <td>2K</td>\n",
       "      <td>Intel Core i7</td>\n",
       "      <td>16GB</td>\n",
       "      <td>512GB NVMe SSD</td>\n",
       "      <td>Intel Iris Xe Graphics</td>\n",
       "      <td>Windows 10</td>\n",
       "      <td>2.914843</td>\n",
       "      <td>68631.102486</td>\n",
       "    </tr>\n",
       "    <tr>\n",
       "      <th>4</th>\n",
       "      <td>Microsoft</td>\n",
       "      <td>Gaming</td>\n",
       "      <td>12.649634</td>\n",
       "      <td>Full HD</td>\n",
       "      <td>Intel Core i5</td>\n",
       "      <td>8GB</td>\n",
       "      <td>512GB SSD</td>\n",
       "      <td>AMD Radeon RX 5600M</td>\n",
       "      <td>Windows 10</td>\n",
       "      <td>4.341995</td>\n",
       "      <td>33842.479566</td>\n",
       "    </tr>\n",
       "  </tbody>\n",
       "</table>\n",
       "</div>"
      ],
      "text/plain": [
       "  CompanyName        TypeOfLaptop     Inches  \\\n",
       "0         MSI     Business Laptop  17.040680   \n",
       "1       Chuwi  2 in 1 Convertible  16.542395   \n",
       "2          hp         WorkStation  17.295294   \n",
       "3         MSI  2 in 1 Convertible  11.526203   \n",
       "4   Microsoft              Gaming  12.649634   \n",
       "\n",
       "                     ScreenResolution                   Cpu   Ram  \\\n",
       "0  IPS Panel Retina Display 2560x1600         Intel Core i7  12GB   \n",
       "1                             Full HD         Intel Core i5  12GB   \n",
       "2                             Full HD  Intel Xeon E3-1505M    8GB   \n",
       "3                                  2K         Intel Core i7  16GB   \n",
       "4                             Full HD         Intel Core i5   8GB   \n",
       "\n",
       "           Memory                     Gpu       OpSys    Weight         Price  \n",
       "0       512GB SSD  Intel Iris Xe Graphics       Linux  2.064834  35844.099371  \n",
       "1  128GB PCIe SSD  Intel Iris Xe Graphics       No OS  4.060656  37019.059051  \n",
       "2         1TB HDD  Intel Iris Xe Graphics       Linux  2.901689  33329.360341  \n",
       "3  512GB NVMe SSD  Intel Iris Xe Graphics  Windows 10  2.914843  68631.102486  \n",
       "4       512GB SSD     AMD Radeon RX 5600M  Windows 10  4.341995  33842.479566  "
      ]
     },
     "execution_count": 2,
     "metadata": {},
     "output_type": "execute_result"
    }
   ],
   "source": [
    "data = pd.read_csv(\"laptops.csv\")\n",
    "df = data.copy()\n",
    "df.head()"
   ]
  },
  {
   "cell_type": "markdown",
   "id": "bb995e8b-a27e-46af-8d12-c945edabd829",
   "metadata": {},
   "source": [
    "#### Step-2\n",
    "* Applied df.info() which gives us the information of dataset."
   ]
  },
  {
   "cell_type": "code",
   "execution_count": 3,
   "id": "c3463ae7-5b8f-4e7a-90a4-a116bf6cc666",
   "metadata": {},
   "outputs": [
    {
     "name": "stdout",
     "output_type": "stream",
     "text": [
      "<class 'pandas.core.frame.DataFrame'>\n",
      "RangeIndex: 1000 entries, 0 to 999\n",
      "Data columns (total 11 columns):\n",
      " #   Column            Non-Null Count  Dtype  \n",
      "---  ------            --------------  -----  \n",
      " 0   CompanyName       1000 non-null   object \n",
      " 1   TypeOfLaptop      1000 non-null   object \n",
      " 2   Inches            1000 non-null   float64\n",
      " 3   ScreenResolution  1000 non-null   object \n",
      " 4   Cpu               1000 non-null   object \n",
      " 5   Ram               1000 non-null   object \n",
      " 6   Memory            1000 non-null   object \n",
      " 7   Gpu               1000 non-null   object \n",
      " 8   OpSys             1000 non-null   object \n",
      " 9   Weight            1000 non-null   float64\n",
      " 10  Price             1000 non-null   float64\n",
      "dtypes: float64(3), object(8)\n",
      "memory usage: 86.1+ KB\n"
     ]
    }
   ],
   "source": [
    "df.info()"
   ]
  },
  {
   "cell_type": "markdown",
   "id": "6ceba750-90e2-44ae-85a6-202f0819961f",
   "metadata": {},
   "source": [
    "* In the above step's output we can see that the dataset has 1000 rows and 11 columns.\n",
    "* All the columns have ideal datatypes except Ram and Memory as both has the datatype as object(string) , hence we have to convert this into integer type. This will be our primary goal."
   ]
  },
  {
   "cell_type": "markdown",
   "id": "4caddba5-d606-42aa-9623-6e9f258ceb22",
   "metadata": {},
   "source": [
    "#### Step-3\n",
    "* Now we have applied df.describe() which gives us the descriptions of numerical columns."
   ]
  },
  {
   "cell_type": "code",
   "execution_count": 4,
   "id": "ec9d390c-c1db-43cb-9021-97d4807d81c2",
   "metadata": {},
   "outputs": [
    {
     "data": {
      "text/html": [
       "<div>\n",
       "<style scoped>\n",
       "    .dataframe tbody tr th:only-of-type {\n",
       "        vertical-align: middle;\n",
       "    }\n",
       "\n",
       "    .dataframe tbody tr th {\n",
       "        vertical-align: top;\n",
       "    }\n",
       "\n",
       "    .dataframe thead th {\n",
       "        text-align: right;\n",
       "    }\n",
       "</style>\n",
       "<table border=\"1\" class=\"dataframe\">\n",
       "  <thead>\n",
       "    <tr style=\"text-align: right;\">\n",
       "      <th></th>\n",
       "      <th>Inches</th>\n",
       "      <th>Weight</th>\n",
       "      <th>Price</th>\n",
       "    </tr>\n",
       "  </thead>\n",
       "  <tbody>\n",
       "    <tr>\n",
       "      <th>count</th>\n",
       "      <td>1000.000000</td>\n",
       "      <td>1000.000000</td>\n",
       "      <td>1000.000000</td>\n",
       "    </tr>\n",
       "    <tr>\n",
       "      <th>mean</th>\n",
       "      <td>14.496646</td>\n",
       "      <td>3.469800</td>\n",
       "      <td>51602.255339</td>\n",
       "    </tr>\n",
       "    <tr>\n",
       "      <th>std</th>\n",
       "      <td>2.066624</td>\n",
       "      <td>0.857112</td>\n",
       "      <td>13802.833231</td>\n",
       "    </tr>\n",
       "    <tr>\n",
       "      <th>min</th>\n",
       "      <td>11.005842</td>\n",
       "      <td>2.000819</td>\n",
       "      <td>30060.275100</td>\n",
       "    </tr>\n",
       "    <tr>\n",
       "      <th>25%</th>\n",
       "      <td>12.677791</td>\n",
       "      <td>2.720228</td>\n",
       "      <td>40376.617670</td>\n",
       "    </tr>\n",
       "    <tr>\n",
       "      <th>50%</th>\n",
       "      <td>14.509298</td>\n",
       "      <td>3.477824</td>\n",
       "      <td>50683.971717</td>\n",
       "    </tr>\n",
       "    <tr>\n",
       "      <th>75%</th>\n",
       "      <td>16.313026</td>\n",
       "      <td>4.189891</td>\n",
       "      <td>61897.280126</td>\n",
       "    </tr>\n",
       "    <tr>\n",
       "      <th>max</th>\n",
       "      <td>17.998786</td>\n",
       "      <td>4.994556</td>\n",
       "      <td>115137.368077</td>\n",
       "    </tr>\n",
       "  </tbody>\n",
       "</table>\n",
       "</div>"
      ],
      "text/plain": [
       "            Inches       Weight          Price\n",
       "count  1000.000000  1000.000000    1000.000000\n",
       "mean     14.496646     3.469800   51602.255339\n",
       "std       2.066624     0.857112   13802.833231\n",
       "min      11.005842     2.000819   30060.275100\n",
       "25%      12.677791     2.720228   40376.617670\n",
       "50%      14.509298     3.477824   50683.971717\n",
       "75%      16.313026     4.189891   61897.280126\n",
       "max      17.998786     4.994556  115137.368077"
      ]
     },
     "execution_count": 4,
     "metadata": {},
     "output_type": "execute_result"
    }
   ],
   "source": [
    "df.describe()"
   ]
  },
  {
   "cell_type": "markdown",
   "id": "8e85072a-bb9b-49a8-a070-a87a810a6c78",
   "metadata": {},
   "source": [
    "* The observations of this step are as following\n",
    "* count is 1000 for Inches, Weight and Price column.\n",
    "* Mean of Inches is 14.5 and std. deviation is 2 which means that our screen size can go like 8 inches, 10inches, 12inches, 16inches, 18inches etc.\n",
    "* Minimum screen size is 11inches and 25 % means the first 250 rows have the screen size as 12.67inches.\n",
    "* One important observation is that the mean and 50% data (median) is almost same. This implies that the data is Normally Distributed.\n",
    "* Similar observations have been done on Weight and Price column and clearly observed that the data is Normally Distributed. "
   ]
  },
  {
   "cell_type": "markdown",
   "id": "df510748-9a36-4e34-9bc7-efaa8c97023e",
   "metadata": {},
   "source": [
    "#### Step-4\n",
    "* To get the individual column information we applied df[\"ColumnName\"].value_counts().\n",
    "* Here we applied it to the first column which is \"CompanyName\""
   ]
  },
  {
   "cell_type": "code",
   "execution_count": 5,
   "id": "27edba73-d4eb-4e5a-9add-11d227c99b88",
   "metadata": {},
   "outputs": [
    {
     "data": {
      "text/plain": [
       "CompanyName\n",
       "MSI          128\n",
       "Microsoft    118\n",
       "Apple        113\n",
       "lenevo       113\n",
       "Asus         112\n",
       "Chuwi        109\n",
       "Acer         107\n",
       "Dell         101\n",
       "hp            99\n",
       "Name: count, dtype: int64"
      ]
     },
     "execution_count": 5,
     "metadata": {},
     "output_type": "execute_result"
    }
   ],
   "source": [
    "df[\"CompanyName\"].value_counts()"
   ]
  },
  {
   "cell_type": "markdown",
   "id": "b9c17814-f060-4da0-9034-8457e2026de8",
   "metadata": {},
   "source": [
    "* \"Chuwi\" is a laptop company which we are not familiar so we decided to replace it with \"Samsung\". For this we used replace function as below."
   ]
  },
  {
   "cell_type": "code",
   "execution_count": 6,
   "id": "96f17029-72ea-4b82-bd03-aa71d99d612c",
   "metadata": {},
   "outputs": [],
   "source": [
    "df[\"CompanyName\"] = df[\"CompanyName\"].replace(\"Chuwi\", \"Samsung\")"
   ]
  },
  {
   "cell_type": "code",
   "execution_count": 7,
   "id": "7d439003-5237-43b4-a133-dd2a6380c386",
   "metadata": {},
   "outputs": [
    {
     "data": {
      "text/plain": [
       "CompanyName\n",
       "MSI          128\n",
       "Microsoft    118\n",
       "Apple        113\n",
       "lenevo       113\n",
       "Asus         112\n",
       "Samsung      109\n",
       "Acer         107\n",
       "Dell         101\n",
       "hp            99\n",
       "Name: count, dtype: int64"
      ]
     },
     "execution_count": 7,
     "metadata": {},
     "output_type": "execute_result"
    }
   ],
   "source": [
    "### Again applying value_counts() to see if the changes have been done or not.\n",
    "df[\"CompanyName\"].value_counts()"
   ]
  },
  {
   "cell_type": "markdown",
   "id": "bf564f15-e22b-4df3-90bc-4ea8aafed268",
   "metadata": {},
   "source": [
    "* As we can see the max count is 128 and min is 99, which are quite close. hence no further action needed."
   ]
  },
  {
   "cell_type": "markdown",
   "id": "07ab3b10-7949-4dc6-998f-614a2628b272",
   "metadata": {},
   "source": [
    "#### Step-5\n",
    "* Now we moveto second column which is \"TypeOfLaptop\""
   ]
  },
  {
   "cell_type": "code",
   "execution_count": 8,
   "id": "bd71f44f-cfd2-4915-a798-c0904b43a0d9",
   "metadata": {},
   "outputs": [
    {
     "data": {
      "text/plain": [
       "TypeOfLaptop\n",
       "Business Laptop       176\n",
       "WorkStation           175\n",
       "Gaming                168\n",
       "UltraBook             166\n",
       "2 in 1 Convertible    162\n",
       "NoteBook              153\n",
       "Name: count, dtype: int64"
      ]
     },
     "execution_count": 8,
     "metadata": {},
     "output_type": "execute_result"
    }
   ],
   "source": [
    "df[\"TypeOfLaptop\"].value_counts()"
   ]
  },
  {
   "cell_type": "markdown",
   "id": "d17139af-3bed-44da-937e-4933e01cc7ab",
   "metadata": {},
   "source": [
    "* As we can see the Names of TypeOfLaptop is quite long so we can change this by using replace function as before.\n",
    "* We have replaced \"Business Laptop\" by \"Business\" and \"2 in 1 Convertible\" by \"2_in_1\"."
   ]
  },
  {
   "cell_type": "code",
   "execution_count": 9,
   "id": "d229665b-4f58-4b6b-9bdd-5f3360407238",
   "metadata": {},
   "outputs": [],
   "source": [
    "df[\"TypeOfLaptop\"] = df[\"TypeOfLaptop\"].replace(\"Business Laptop\" , \"Business\")\n",
    "df[\"TypeOfLaptop\"] = df[\"TypeOfLaptop\"].replace(\"2 in 1 Convertible\" , \"2_in_1\")"
   ]
  },
  {
   "cell_type": "code",
   "execution_count": 10,
   "id": "8ab31f57-95ba-4de5-8dfc-6967c97d6562",
   "metadata": {},
   "outputs": [
    {
     "data": {
      "text/plain": [
       "TypeOfLaptop\n",
       "Business       176\n",
       "WorkStation    175\n",
       "Gaming         168\n",
       "UltraBook      166\n",
       "2_in_1         162\n",
       "NoteBook       153\n",
       "Name: count, dtype: int64"
      ]
     },
     "execution_count": 10,
     "metadata": {},
     "output_type": "execute_result"
    }
   ],
   "source": [
    "### Again applying value_counts() to see if the changes have been done or not.\n",
    "df[\"TypeOfLaptop\"].value_counts()"
   ]
  },
  {
   "cell_type": "markdown",
   "id": "53e2812a-ab89-4f01-87b4-7bfcccf30115",
   "metadata": {},
   "source": [
    "#### Step-6\n",
    "* As the data type of Inches is float64 , we have to convert it into int64.\n",
    "* For this we have used \".astype(\"datatype\")\" method."
   ]
  },
  {
   "cell_type": "code",
   "execution_count": 11,
   "id": "5781966c-8813-4830-ae03-52977487f043",
   "metadata": {},
   "outputs": [],
   "source": [
    "df[\"Inches\"]=df[\"Inches\"].astype(\"int64\")"
   ]
  },
  {
   "cell_type": "code",
   "execution_count": 12,
   "id": "466c01f9-e055-4f4c-b6d1-2def908cec60",
   "metadata": {},
   "outputs": [
    {
     "data": {
      "text/plain": [
       "dtype('int64')"
      ]
     },
     "execution_count": 12,
     "metadata": {},
     "output_type": "execute_result"
    }
   ],
   "source": [
    "### Applied \".dtype\" to check the datatype of Inches Column.\n",
    "df[\"Inches\"].dtype"
   ]
  },
  {
   "cell_type": "markdown",
   "id": "7c931c32-40e0-404f-a316-f717fa850661",
   "metadata": {},
   "source": [
    "#### Step-7\n",
    "* Coming to the next column which is \"ScreenResolution\"."
   ]
  },
  {
   "cell_type": "code",
   "execution_count": 13,
   "id": "3d59e807-3b96-4259-9bc8-477d62e91413",
   "metadata": {},
   "outputs": [
    {
     "data": {
      "text/plain": [
       "ScreenResolution\n",
       "2K                                           181\n",
       "4K                                           179\n",
       "IPS Panel Full HD / Touchscreen 1920x1080    176\n",
       "Full HD                                      162\n",
       "HD 1920x1080                                 160\n",
       "IPS Panel Retina Display 2560x1600           142\n",
       "Name: count, dtype: int64"
      ]
     },
     "execution_count": 13,
     "metadata": {},
     "output_type": "execute_result"
    }
   ],
   "source": [
    "df[\"ScreenResolution\"].value_counts()"
   ]
  },
  {
   "cell_type": "markdown",
   "id": "040004b4-0b12-4b0f-96b4-5fd0170a7266",
   "metadata": {},
   "source": [
    "* Here we can observe that the names are too long so we decided to convert the name in shorter format such as \"IPS Panel Full HD / Touchscreen 1920x1080\" to \"Touchscreen\" using \".replace()\" method."
   ]
  },
  {
   "cell_type": "code",
   "execution_count": 14,
   "id": "e02e0129-deb4-4edc-ab6d-8b549c4d4f62",
   "metadata": {},
   "outputs": [],
   "source": [
    "df[\"ScreenResolution\"] = df[\"ScreenResolution\"].replace(\"IPS Panel Full HD / Touchscreen 1920x1080\", \"Touchscreen\")\n",
    "df[\"ScreenResolution\"] = df[\"ScreenResolution\"].replace(\"HD 1920x1080\",\"HD\")\n",
    "df[\"ScreenResolution\"] = df[\"ScreenResolution\"].replace(\"IPS Panel Retina Display 2560x1600\", \"Retina Display\")"
   ]
  },
  {
   "cell_type": "code",
   "execution_count": 15,
   "id": "f178b5c2-cc6d-4893-ab65-0638a5142cf2",
   "metadata": {},
   "outputs": [
    {
     "data": {
      "text/plain": [
       "ScreenResolution\n",
       "2K                181\n",
       "4K                179\n",
       "Touchscreen       176\n",
       "Full HD           162\n",
       "HD 1920x1080      160\n",
       "Retina Display    142\n",
       "Name: count, dtype: int64"
      ]
     },
     "execution_count": 15,
     "metadata": {},
     "output_type": "execute_result"
    }
   ],
   "source": [
    "### Applied value_counts() to confirm the changes.\n",
    "df[\"ScreenResolution\"].value_counts()"
   ]
  },
  {
   "cell_type": "code",
   "execution_count": 16,
   "id": "ad9c1594-008f-401c-bd72-3bf3ecb22250",
   "metadata": {},
   "outputs": [
    {
     "data": {
      "text/html": [
       "<div>\n",
       "<style scoped>\n",
       "    .dataframe tbody tr th:only-of-type {\n",
       "        vertical-align: middle;\n",
       "    }\n",
       "\n",
       "    .dataframe tbody tr th {\n",
       "        vertical-align: top;\n",
       "    }\n",
       "\n",
       "    .dataframe thead th {\n",
       "        text-align: right;\n",
       "    }\n",
       "</style>\n",
       "<table border=\"1\" class=\"dataframe\">\n",
       "  <thead>\n",
       "    <tr style=\"text-align: right;\">\n",
       "      <th></th>\n",
       "      <th>CompanyName</th>\n",
       "      <th>TypeOfLaptop</th>\n",
       "      <th>Inches</th>\n",
       "      <th>ScreenResolution</th>\n",
       "      <th>Cpu</th>\n",
       "      <th>Ram</th>\n",
       "      <th>Memory</th>\n",
       "      <th>Gpu</th>\n",
       "      <th>OpSys</th>\n",
       "      <th>Weight</th>\n",
       "      <th>Price</th>\n",
       "    </tr>\n",
       "  </thead>\n",
       "  <tbody>\n",
       "    <tr>\n",
       "      <th>0</th>\n",
       "      <td>MSI</td>\n",
       "      <td>Business</td>\n",
       "      <td>17</td>\n",
       "      <td>Retina Display</td>\n",
       "      <td>Intel Core i7</td>\n",
       "      <td>12GB</td>\n",
       "      <td>512GB SSD</td>\n",
       "      <td>Intel Iris Xe Graphics</td>\n",
       "      <td>Linux</td>\n",
       "      <td>2.064834</td>\n",
       "      <td>35844.099371</td>\n",
       "    </tr>\n",
       "    <tr>\n",
       "      <th>1</th>\n",
       "      <td>Samsung</td>\n",
       "      <td>2_in_1</td>\n",
       "      <td>16</td>\n",
       "      <td>Full HD</td>\n",
       "      <td>Intel Core i5</td>\n",
       "      <td>12GB</td>\n",
       "      <td>128GB PCIe SSD</td>\n",
       "      <td>Intel Iris Xe Graphics</td>\n",
       "      <td>No OS</td>\n",
       "      <td>4.060656</td>\n",
       "      <td>37019.059051</td>\n",
       "    </tr>\n",
       "    <tr>\n",
       "      <th>2</th>\n",
       "      <td>hp</td>\n",
       "      <td>WorkStation</td>\n",
       "      <td>17</td>\n",
       "      <td>Full HD</td>\n",
       "      <td>Intel Xeon E3-1505M</td>\n",
       "      <td>8GB</td>\n",
       "      <td>1TB HDD</td>\n",
       "      <td>Intel Iris Xe Graphics</td>\n",
       "      <td>Linux</td>\n",
       "      <td>2.901689</td>\n",
       "      <td>33329.360341</td>\n",
       "    </tr>\n",
       "    <tr>\n",
       "      <th>3</th>\n",
       "      <td>MSI</td>\n",
       "      <td>2_in_1</td>\n",
       "      <td>11</td>\n",
       "      <td>2K</td>\n",
       "      <td>Intel Core i7</td>\n",
       "      <td>16GB</td>\n",
       "      <td>512GB NVMe SSD</td>\n",
       "      <td>Intel Iris Xe Graphics</td>\n",
       "      <td>Windows 10</td>\n",
       "      <td>2.914843</td>\n",
       "      <td>68631.102486</td>\n",
       "    </tr>\n",
       "    <tr>\n",
       "      <th>4</th>\n",
       "      <td>Microsoft</td>\n",
       "      <td>Gaming</td>\n",
       "      <td>12</td>\n",
       "      <td>Full HD</td>\n",
       "      <td>Intel Core i5</td>\n",
       "      <td>8GB</td>\n",
       "      <td>512GB SSD</td>\n",
       "      <td>AMD Radeon RX 5600M</td>\n",
       "      <td>Windows 10</td>\n",
       "      <td>4.341995</td>\n",
       "      <td>33842.479566</td>\n",
       "    </tr>\n",
       "  </tbody>\n",
       "</table>\n",
       "</div>"
      ],
      "text/plain": [
       "  CompanyName TypeOfLaptop  Inches ScreenResolution                   Cpu  \\\n",
       "0         MSI     Business      17   Retina Display         Intel Core i7   \n",
       "1     Samsung       2_in_1      16          Full HD         Intel Core i5   \n",
       "2          hp  WorkStation      17          Full HD  Intel Xeon E3-1505M    \n",
       "3         MSI       2_in_1      11               2K         Intel Core i7   \n",
       "4   Microsoft       Gaming      12          Full HD         Intel Core i5   \n",
       "\n",
       "    Ram          Memory                     Gpu       OpSys    Weight  \\\n",
       "0  12GB       512GB SSD  Intel Iris Xe Graphics       Linux  2.064834   \n",
       "1  12GB  128GB PCIe SSD  Intel Iris Xe Graphics       No OS  4.060656   \n",
       "2   8GB         1TB HDD  Intel Iris Xe Graphics       Linux  2.901689   \n",
       "3  16GB  512GB NVMe SSD  Intel Iris Xe Graphics  Windows 10  2.914843   \n",
       "4   8GB       512GB SSD     AMD Radeon RX 5600M  Windows 10  4.341995   \n",
       "\n",
       "          Price  \n",
       "0  35844.099371  \n",
       "1  37019.059051  \n",
       "2  33329.360341  \n",
       "3  68631.102486  \n",
       "4  33842.479566  "
      ]
     },
     "execution_count": 16,
     "metadata": {},
     "output_type": "execute_result"
    }
   ],
   "source": [
    "df.head()"
   ]
  },
  {
   "cell_type": "markdown",
   "id": "838b423c-4be9-485b-8ef2-06a9e6a10b43",
   "metadata": {},
   "source": [
    "#### Step-8\n",
    "* Next column is \"Cpu\". Applied  \".value_counts()\" to get the information of this column."
   ]
  },
  {
   "cell_type": "code",
   "execution_count": 17,
   "id": "c648db99-e80a-4216-b991-788181bf75fb",
   "metadata": {},
   "outputs": [
    {
     "data": {
      "text/plain": [
       "Cpu\n",
       "Intel Xeon E3-1505M               114\n",
       "Intel Atom x5-Z8550               111\n",
       "Intel Core i5                     105\n",
       "Intel Pentium Quad Core N4200     101\n",
       "Intel Celeron Dual Core 3855U      98\n",
       "Intel Core i7                      96\n",
       "Intel Core i9                      95\n",
       "AMD Ryzen 5                        94\n",
       "AMD Ryzen 7                        94\n",
       "AMD A9-Series 9420                 92\n",
       "Name: count, dtype: int64"
      ]
     },
     "execution_count": 17,
     "metadata": {},
     "output_type": "execute_result"
    }
   ],
   "source": [
    "df[\"Cpu\"].value_counts()"
   ]
  },
  {
   "cell_type": "markdown",
   "id": "1aa61d7d-1136-4b6a-8d57-50955c2c8daa",
   "metadata": {},
   "source": [
    "* Here we can observe that the names are too long so we decided to convert the name in shorter format. example: \"Intel Xeon E3-1505M \" to \"Intel Xeon\" using \".replace()\" method etc."
   ]
  },
  {
   "cell_type": "code",
   "execution_count": 18,
   "id": "ef16144c-f87f-4525-9869-6479944ea626",
   "metadata": {},
   "outputs": [],
   "source": [
    "df[\"Cpu\"] = df[\"Cpu\"].replace(\"Intel Xeon E3-1505M \", \"Intel Xeon\")\n",
    "df[\"Cpu\"] = df[\"Cpu\"].replace(\"Intel Atom x5-Z8550\", \"Intel Atom\")\n",
    "df[\"Cpu\"] = df[\"Cpu\"].replace(\"Intel Core i5\", \"Intel i5\")\n",
    "df[\"Cpu\"] = df[\"Cpu\"].replace(\"Intel Core i7\", \"Intel i7\")\n",
    "df[\"Cpu\"] = df[\"Cpu\"].replace(\"Intel Core i9\", \"Intel i9\")\n",
    "df[\"Cpu\"] = df[\"Cpu\"].replace(\"Intel Pentium Quad Core N4200\", \"Intel Pentium\")\n",
    "df[\"Cpu\"] = df[\"Cpu\"].replace(\"Intel Celeron Dual Core 3855U \", \"Intel Celeron\")\n",
    "df[\"Cpu\"] = df[\"Cpu\"].replace(\"AMD Ryzen 5\", \"AMD 5\")\n",
    "df[\"Cpu\"] = df[\"Cpu\"].replace(\"AMD Ryzen 7\", \"AMD 7\")\n",
    "df[\"Cpu\"] = df[\"Cpu\"].replace(\"AMD A9-Series 9420\", \"AMD A9\")"
   ]
  },
  {
   "cell_type": "code",
   "execution_count": 19,
   "id": "145281ba-620b-4f4b-8101-545c01d9a440",
   "metadata": {},
   "outputs": [
    {
     "data": {
      "text/plain": [
       "Cpu\n",
       "Intel Xeon       114\n",
       "Intel Atom       111\n",
       "Intel i5         105\n",
       "Intel Pentium    101\n",
       "Intel Celeron     98\n",
       "Intel i7          96\n",
       "Intel i9          95\n",
       "AMD 5             94\n",
       "AMD 7             94\n",
       "AMD A9            92\n",
       "Name: count, dtype: int64"
      ]
     },
     "execution_count": 19,
     "metadata": {},
     "output_type": "execute_result"
    }
   ],
   "source": [
    "### Applied value_counts() to confirm the changes.\n",
    "df[\"Cpu\"].value_counts()"
   ]
  },
  {
   "cell_type": "markdown",
   "id": "ab30196b-d6e1-46db-aa9f-17c7fb874054",
   "metadata": {},
   "source": [
    "#### Step-9\n",
    "* Next column is \"Ram\". applied \".value_counts()\" to get the informations."
   ]
  },
  {
   "cell_type": "code",
   "execution_count": 20,
   "id": "6146baad-8363-47e1-bdbd-5a3d410a8749",
   "metadata": {},
   "outputs": [
    {
     "data": {
      "text/plain": [
       "Ram\n",
       "8GB     270\n",
       "12GB    247\n",
       "4GB     243\n",
       "16GB    240\n",
       "Name: count, dtype: int64"
      ]
     },
     "execution_count": 20,
     "metadata": {},
     "output_type": "execute_result"
    }
   ],
   "source": [
    "df[\"Ram\"].value_counts()"
   ]
  },
  {
   "cell_type": "markdown",
   "id": "8556648a-bda8-477e-bafc-dd87d5f82855",
   "metadata": {},
   "source": [
    "* We can see that the Ram is given as 8GB, 12GB, 4GB, 16GB.\n",
    "* hence we want to erase this string GB and show the Ram as 8,12,4,16.\n",
    "* for this task we used \".str.replace()\" because GB is part of a text and we do not want to erase or replace the complete text."
   ]
  },
  {
   "cell_type": "code",
   "execution_count": 21,
   "id": "98ae554d-226a-494c-bffa-df91fc45016c",
   "metadata": {},
   "outputs": [],
   "source": [
    "### GB is replaced or erased.\n",
    "df[\"Ram\"]=df[\"Ram\"].str.replace(\"GB\",\"\")"
   ]
  },
  {
   "cell_type": "code",
   "execution_count": 22,
   "id": "ba23b554-c3d0-4e1d-8ff5-76acdce050e8",
   "metadata": {},
   "outputs": [],
   "source": [
    "### Now changing its type as int64 using \".astype()\" because Ram is showing in integer form now.\n",
    "df[\"Ram\"]=df[\"Ram\"].astype(\"int64\")"
   ]
  },
  {
   "cell_type": "code",
   "execution_count": 23,
   "id": "a4a78817-89a9-463f-8074-9eeaf08eea36",
   "metadata": {},
   "outputs": [
    {
     "data": {
      "text/html": [
       "<div>\n",
       "<style scoped>\n",
       "    .dataframe tbody tr th:only-of-type {\n",
       "        vertical-align: middle;\n",
       "    }\n",
       "\n",
       "    .dataframe tbody tr th {\n",
       "        vertical-align: top;\n",
       "    }\n",
       "\n",
       "    .dataframe thead th {\n",
       "        text-align: right;\n",
       "    }\n",
       "</style>\n",
       "<table border=\"1\" class=\"dataframe\">\n",
       "  <thead>\n",
       "    <tr style=\"text-align: right;\">\n",
       "      <th></th>\n",
       "      <th>CompanyName</th>\n",
       "      <th>TypeOfLaptop</th>\n",
       "      <th>Inches</th>\n",
       "      <th>ScreenResolution</th>\n",
       "      <th>Cpu</th>\n",
       "      <th>Ram</th>\n",
       "      <th>Memory</th>\n",
       "      <th>Gpu</th>\n",
       "      <th>OpSys</th>\n",
       "      <th>Weight</th>\n",
       "      <th>Price</th>\n",
       "    </tr>\n",
       "  </thead>\n",
       "  <tbody>\n",
       "    <tr>\n",
       "      <th>0</th>\n",
       "      <td>MSI</td>\n",
       "      <td>Business</td>\n",
       "      <td>17</td>\n",
       "      <td>Retina Display</td>\n",
       "      <td>Intel i7</td>\n",
       "      <td>12</td>\n",
       "      <td>512GB SSD</td>\n",
       "      <td>Intel Iris Xe Graphics</td>\n",
       "      <td>Linux</td>\n",
       "      <td>2.064834</td>\n",
       "      <td>35844.099371</td>\n",
       "    </tr>\n",
       "    <tr>\n",
       "      <th>1</th>\n",
       "      <td>Samsung</td>\n",
       "      <td>2_in_1</td>\n",
       "      <td>16</td>\n",
       "      <td>Full HD</td>\n",
       "      <td>Intel i5</td>\n",
       "      <td>12</td>\n",
       "      <td>128GB PCIe SSD</td>\n",
       "      <td>Intel Iris Xe Graphics</td>\n",
       "      <td>No OS</td>\n",
       "      <td>4.060656</td>\n",
       "      <td>37019.059051</td>\n",
       "    </tr>\n",
       "    <tr>\n",
       "      <th>2</th>\n",
       "      <td>hp</td>\n",
       "      <td>WorkStation</td>\n",
       "      <td>17</td>\n",
       "      <td>Full HD</td>\n",
       "      <td>Intel Xeon</td>\n",
       "      <td>8</td>\n",
       "      <td>1TB HDD</td>\n",
       "      <td>Intel Iris Xe Graphics</td>\n",
       "      <td>Linux</td>\n",
       "      <td>2.901689</td>\n",
       "      <td>33329.360341</td>\n",
       "    </tr>\n",
       "    <tr>\n",
       "      <th>3</th>\n",
       "      <td>MSI</td>\n",
       "      <td>2_in_1</td>\n",
       "      <td>11</td>\n",
       "      <td>2K</td>\n",
       "      <td>Intel i7</td>\n",
       "      <td>16</td>\n",
       "      <td>512GB NVMe SSD</td>\n",
       "      <td>Intel Iris Xe Graphics</td>\n",
       "      <td>Windows 10</td>\n",
       "      <td>2.914843</td>\n",
       "      <td>68631.102486</td>\n",
       "    </tr>\n",
       "    <tr>\n",
       "      <th>4</th>\n",
       "      <td>Microsoft</td>\n",
       "      <td>Gaming</td>\n",
       "      <td>12</td>\n",
       "      <td>Full HD</td>\n",
       "      <td>Intel i5</td>\n",
       "      <td>8</td>\n",
       "      <td>512GB SSD</td>\n",
       "      <td>AMD Radeon RX 5600M</td>\n",
       "      <td>Windows 10</td>\n",
       "      <td>4.341995</td>\n",
       "      <td>33842.479566</td>\n",
       "    </tr>\n",
       "  </tbody>\n",
       "</table>\n",
       "</div>"
      ],
      "text/plain": [
       "  CompanyName TypeOfLaptop  Inches ScreenResolution         Cpu  Ram  \\\n",
       "0         MSI     Business      17   Retina Display    Intel i7   12   \n",
       "1     Samsung       2_in_1      16          Full HD    Intel i5   12   \n",
       "2          hp  WorkStation      17          Full HD  Intel Xeon    8   \n",
       "3         MSI       2_in_1      11               2K    Intel i7   16   \n",
       "4   Microsoft       Gaming      12          Full HD    Intel i5    8   \n",
       "\n",
       "           Memory                     Gpu       OpSys    Weight         Price  \n",
       "0       512GB SSD  Intel Iris Xe Graphics       Linux  2.064834  35844.099371  \n",
       "1  128GB PCIe SSD  Intel Iris Xe Graphics       No OS  4.060656  37019.059051  \n",
       "2         1TB HDD  Intel Iris Xe Graphics       Linux  2.901689  33329.360341  \n",
       "3  512GB NVMe SSD  Intel Iris Xe Graphics  Windows 10  2.914843  68631.102486  \n",
       "4       512GB SSD     AMD Radeon RX 5600M  Windows 10  4.341995  33842.479566  "
      ]
     },
     "execution_count": 23,
     "metadata": {},
     "output_type": "execute_result"
    }
   ],
   "source": [
    "df.head()"
   ]
  },
  {
   "cell_type": "markdown",
   "id": "4cc56572-2128-4981-9a2b-56cf1e8a3691",
   "metadata": {},
   "source": [
    "#### Step-10\n",
    "* Next column is \"Memory\". Applied \".value_counts\" to get the information."
   ]
  },
  {
   "cell_type": "code",
   "execution_count": 24,
   "id": "585f0ab5-45a5-4c6a-b252-5035489476ae",
   "metadata": {},
   "outputs": [
    {
     "data": {
      "text/plain": [
       "Memory\n",
       "1TB HDD                105\n",
       "2TB SATA SSD            63\n",
       "1TB SSHD                61\n",
       "4TB HDD                 60\n",
       "512GB eMMC              59\n",
       "128GB PCIe SSD          58\n",
       "1TB NVMe SSD            55\n",
       "256GB PCIe SSD          55\n",
       "512GB NVMe SSD          54\n",
       "512GB SSD               51\n",
       "256GB SSD               50\n",
       "2TB HDD                 50\n",
       "1TB Fusion Drive        50\n",
       "2TB NVMe SSD            49\n",
       "256GB Flash Storage     46\n",
       "6TB HDD                 45\n",
       "256GB eMMC              45\n",
       "128GB SSD               44\n",
       "Name: count, dtype: int64"
      ]
     },
     "execution_count": 24,
     "metadata": {},
     "output_type": "execute_result"
    }
   ],
   "source": [
    "df[\"Memory\"].value_counts()"
   ]
  },
  {
   "cell_type": "markdown",
   "id": "bbee76a5-d2b5-4057-a30d-efa13b57699a",
   "metadata": {},
   "source": [
    "* We can clearly see that the Memory names are too long which can create problems while Regression Analysis, So we have to cut it short and remove the extra text.\n",
    "* and also we have to arrange the whole Memory column into two simple categories as \"SSD\" and \"HDD\" and then we have to bifurcate it into two columns.\n",
    "* For this operation we used \".str.replace()\" as in previous task.\n",
    "* The important thing to remember is we have to take the text as well as spaces in it while replacing otherwise it can double our work."
   ]
  },
  {
   "cell_type": "code",
   "execution_count": 25,
   "id": "f7547a6c-cf77-414a-a1a9-3a573ee0e5a8",
   "metadata": {},
   "outputs": [],
   "source": [
    "df[\"Memory\"] = df[\"Memory\"].str.replace(\"SATA \",\"\")\n",
    "df[\"Memory\"] = df[\"Memory\"].str.replace(\"SSHD\",\"SSD\")\n",
    "df[\"Memory\"] = df[\"Memory\"].str.replace(\"eMMC\",\"SSD\")\n",
    "df[\"Memory\"] = df[\"Memory\"].str.replace(\"PCIe \",\"\")\n",
    "df[\"Memory\"] = df[\"Memory\"].str.replace(\"NVMe \",\"\")\n",
    "df[\"Memory\"] = df[\"Memory\"].str.replace(\"Fusion Drive\",\"HDD\")\n",
    "df[\"Memory\"] = df[\"Memory\"].str.replace(\"Flash Storage\",\"SSD\")"
   ]
  },
  {
   "cell_type": "code",
   "execution_count": 26,
   "id": "9f72fdce-13c2-4373-8fa5-9f98b46bfe03",
   "metadata": {},
   "outputs": [
    {
     "data": {
      "text/plain": [
       "Memory\n",
       "256GB SSD    196\n",
       "512GB SSD    164\n",
       "1TB HDD      155\n",
       "1TB SSD      116\n",
       "2TB SSD      112\n",
       "128GB SSD    102\n",
       "4TB HDD       60\n",
       "2TB HDD       50\n",
       "6TB HDD       45\n",
       "Name: count, dtype: int64"
      ]
     },
     "execution_count": 26,
     "metadata": {},
     "output_type": "execute_result"
    }
   ],
   "source": [
    "### Again applied value_counts() to confirm the changes. Arranged all the types into two simple categories\n",
    "### as SSD and HDD but not divided the column yet.\n",
    "df[\"Memory\"].value_counts()"
   ]
  },
  {
   "cell_type": "markdown",
   "id": "245d33ff-2c52-44e3-96a9-19af85392c18",
   "metadata": {},
   "source": [
    "* We have changed all the types into two simple categories but not separated them . For the separation we have to use the following code."
   ]
  },
  {
   "cell_type": "code",
   "execution_count": 27,
   "id": "52bf3029-353c-4294-8e83-2152015553d3",
   "metadata": {},
   "outputs": [],
   "source": [
    "### converting the string into its part (for ex if 256GB SSD-->256GB ) if text has SSD , otherwise convert into 0 for SSD column.\n",
    "dummy_ssd = list(map(lambda x: x[:-3] if x[-3:]==\"SSD\" else \"0\", df[\"Memory\"]))"
   ]
  },
  {
   "cell_type": "code",
   "execution_count": 28,
   "id": "215641c8-e9d3-4b84-ac76-876fd1618e3c",
   "metadata": {},
   "outputs": [
    {
     "data": {
      "text/plain": [
       "1000"
      ]
     },
     "execution_count": 28,
     "metadata": {},
     "output_type": "execute_result"
    }
   ],
   "source": [
    "len(dummy_ssd)"
   ]
  },
  {
   "cell_type": "code",
   "execution_count": 29,
   "id": "6003304e-d48c-4e87-9214-012c9eb1e274",
   "metadata": {},
   "outputs": [],
   "source": [
    "### converting the string into its part (for ex if 1TB HDD-->1TB ) if text has HDD , otherwise convert into 0 for HDD column.\n",
    "dummy_hdd = list(map(lambda x: x[:-3] if x[-3:]==\"HDD\" else \"0\", df[\"Memory\"]))"
   ]
  },
  {
   "cell_type": "code",
   "execution_count": 30,
   "id": "076be143-1b8f-47e0-8d63-9fc0642a89b5",
   "metadata": {},
   "outputs": [
    {
     "data": {
      "text/plain": [
       "1000"
      ]
     },
     "execution_count": 30,
     "metadata": {},
     "output_type": "execute_result"
    }
   ],
   "source": [
    "len(dummy_hdd)"
   ]
  },
  {
   "cell_type": "code",
   "execution_count": 31,
   "id": "88d390fa-68c5-4477-9bb9-80f8095558d6",
   "metadata": {},
   "outputs": [],
   "source": [
    "### creating the SSD and HDD columns where the values will be filled from dummy_ssd and dummy_hdd respectively.\n",
    "df[\"SSD\"] = dummy_ssd\n",
    "df[\"HDD\"] = dummy_hdd"
   ]
  },
  {
   "cell_type": "code",
   "execution_count": 32,
   "id": "071ed1ad-be80-459a-b4f2-9b7a729b182e",
   "metadata": {},
   "outputs": [
    {
     "data": {
      "text/html": [
       "<div>\n",
       "<style scoped>\n",
       "    .dataframe tbody tr th:only-of-type {\n",
       "        vertical-align: middle;\n",
       "    }\n",
       "\n",
       "    .dataframe tbody tr th {\n",
       "        vertical-align: top;\n",
       "    }\n",
       "\n",
       "    .dataframe thead th {\n",
       "        text-align: right;\n",
       "    }\n",
       "</style>\n",
       "<table border=\"1\" class=\"dataframe\">\n",
       "  <thead>\n",
       "    <tr style=\"text-align: right;\">\n",
       "      <th></th>\n",
       "      <th>CompanyName</th>\n",
       "      <th>TypeOfLaptop</th>\n",
       "      <th>Inches</th>\n",
       "      <th>ScreenResolution</th>\n",
       "      <th>Cpu</th>\n",
       "      <th>Ram</th>\n",
       "      <th>Memory</th>\n",
       "      <th>Gpu</th>\n",
       "      <th>OpSys</th>\n",
       "      <th>Weight</th>\n",
       "      <th>Price</th>\n",
       "      <th>SSD</th>\n",
       "      <th>HDD</th>\n",
       "    </tr>\n",
       "  </thead>\n",
       "  <tbody>\n",
       "    <tr>\n",
       "      <th>0</th>\n",
       "      <td>MSI</td>\n",
       "      <td>Business</td>\n",
       "      <td>17</td>\n",
       "      <td>Retina Display</td>\n",
       "      <td>Intel i7</td>\n",
       "      <td>12</td>\n",
       "      <td>512GB SSD</td>\n",
       "      <td>Intel Iris Xe Graphics</td>\n",
       "      <td>Linux</td>\n",
       "      <td>2.064834</td>\n",
       "      <td>35844.099371</td>\n",
       "      <td>512GB</td>\n",
       "      <td>0</td>\n",
       "    </tr>\n",
       "    <tr>\n",
       "      <th>1</th>\n",
       "      <td>Samsung</td>\n",
       "      <td>2_in_1</td>\n",
       "      <td>16</td>\n",
       "      <td>Full HD</td>\n",
       "      <td>Intel i5</td>\n",
       "      <td>12</td>\n",
       "      <td>128GB SSD</td>\n",
       "      <td>Intel Iris Xe Graphics</td>\n",
       "      <td>No OS</td>\n",
       "      <td>4.060656</td>\n",
       "      <td>37019.059051</td>\n",
       "      <td>128GB</td>\n",
       "      <td>0</td>\n",
       "    </tr>\n",
       "    <tr>\n",
       "      <th>2</th>\n",
       "      <td>hp</td>\n",
       "      <td>WorkStation</td>\n",
       "      <td>17</td>\n",
       "      <td>Full HD</td>\n",
       "      <td>Intel Xeon</td>\n",
       "      <td>8</td>\n",
       "      <td>1TB HDD</td>\n",
       "      <td>Intel Iris Xe Graphics</td>\n",
       "      <td>Linux</td>\n",
       "      <td>2.901689</td>\n",
       "      <td>33329.360341</td>\n",
       "      <td>0</td>\n",
       "      <td>1TB</td>\n",
       "    </tr>\n",
       "    <tr>\n",
       "      <th>3</th>\n",
       "      <td>MSI</td>\n",
       "      <td>2_in_1</td>\n",
       "      <td>11</td>\n",
       "      <td>2K</td>\n",
       "      <td>Intel i7</td>\n",
       "      <td>16</td>\n",
       "      <td>512GB SSD</td>\n",
       "      <td>Intel Iris Xe Graphics</td>\n",
       "      <td>Windows 10</td>\n",
       "      <td>2.914843</td>\n",
       "      <td>68631.102486</td>\n",
       "      <td>512GB</td>\n",
       "      <td>0</td>\n",
       "    </tr>\n",
       "    <tr>\n",
       "      <th>4</th>\n",
       "      <td>Microsoft</td>\n",
       "      <td>Gaming</td>\n",
       "      <td>12</td>\n",
       "      <td>Full HD</td>\n",
       "      <td>Intel i5</td>\n",
       "      <td>8</td>\n",
       "      <td>512GB SSD</td>\n",
       "      <td>AMD Radeon RX 5600M</td>\n",
       "      <td>Windows 10</td>\n",
       "      <td>4.341995</td>\n",
       "      <td>33842.479566</td>\n",
       "      <td>512GB</td>\n",
       "      <td>0</td>\n",
       "    </tr>\n",
       "  </tbody>\n",
       "</table>\n",
       "</div>"
      ],
      "text/plain": [
       "  CompanyName TypeOfLaptop  Inches ScreenResolution         Cpu  Ram  \\\n",
       "0         MSI     Business      17   Retina Display    Intel i7   12   \n",
       "1     Samsung       2_in_1      16          Full HD    Intel i5   12   \n",
       "2          hp  WorkStation      17          Full HD  Intel Xeon    8   \n",
       "3         MSI       2_in_1      11               2K    Intel i7   16   \n",
       "4   Microsoft       Gaming      12          Full HD    Intel i5    8   \n",
       "\n",
       "      Memory                     Gpu       OpSys    Weight         Price  \\\n",
       "0  512GB SSD  Intel Iris Xe Graphics       Linux  2.064834  35844.099371   \n",
       "1  128GB SSD  Intel Iris Xe Graphics       No OS  4.060656  37019.059051   \n",
       "2    1TB HDD  Intel Iris Xe Graphics       Linux  2.901689  33329.360341   \n",
       "3  512GB SSD  Intel Iris Xe Graphics  Windows 10  2.914843  68631.102486   \n",
       "4  512GB SSD     AMD Radeon RX 5600M  Windows 10  4.341995  33842.479566   \n",
       "\n",
       "      SSD   HDD  \n",
       "0  512GB      0  \n",
       "1  128GB      0  \n",
       "2       0  1TB   \n",
       "3  512GB      0  \n",
       "4  512GB      0  "
      ]
     },
     "execution_count": 32,
     "metadata": {},
     "output_type": "execute_result"
    }
   ],
   "source": [
    "df.head()"
   ]
  },
  {
   "cell_type": "code",
   "execution_count": 33,
   "id": "53a7e16a-a0db-4bed-9e60-f977a0b119b6",
   "metadata": {},
   "outputs": [],
   "source": [
    "### Now dropping the memory column as there is no need of it because we have categorised it into SSD and HDD columns.\n",
    "df.drop(\"Memory\", axis=1, inplace=True)"
   ]
  },
  {
   "cell_type": "code",
   "execution_count": 34,
   "id": "cb26142c-781c-4b21-b3e6-b04f94fb23df",
   "metadata": {},
   "outputs": [
    {
     "data": {
      "text/html": [
       "<div>\n",
       "<style scoped>\n",
       "    .dataframe tbody tr th:only-of-type {\n",
       "        vertical-align: middle;\n",
       "    }\n",
       "\n",
       "    .dataframe tbody tr th {\n",
       "        vertical-align: top;\n",
       "    }\n",
       "\n",
       "    .dataframe thead th {\n",
       "        text-align: right;\n",
       "    }\n",
       "</style>\n",
       "<table border=\"1\" class=\"dataframe\">\n",
       "  <thead>\n",
       "    <tr style=\"text-align: right;\">\n",
       "      <th></th>\n",
       "      <th>CompanyName</th>\n",
       "      <th>TypeOfLaptop</th>\n",
       "      <th>Inches</th>\n",
       "      <th>ScreenResolution</th>\n",
       "      <th>Cpu</th>\n",
       "      <th>Ram</th>\n",
       "      <th>Gpu</th>\n",
       "      <th>OpSys</th>\n",
       "      <th>Weight</th>\n",
       "      <th>Price</th>\n",
       "      <th>SSD</th>\n",
       "      <th>HDD</th>\n",
       "    </tr>\n",
       "  </thead>\n",
       "  <tbody>\n",
       "    <tr>\n",
       "      <th>0</th>\n",
       "      <td>MSI</td>\n",
       "      <td>Business</td>\n",
       "      <td>17</td>\n",
       "      <td>Retina Display</td>\n",
       "      <td>Intel i7</td>\n",
       "      <td>12</td>\n",
       "      <td>Intel Iris Xe Graphics</td>\n",
       "      <td>Linux</td>\n",
       "      <td>2.064834</td>\n",
       "      <td>35844.099371</td>\n",
       "      <td>512GB</td>\n",
       "      <td>0</td>\n",
       "    </tr>\n",
       "    <tr>\n",
       "      <th>1</th>\n",
       "      <td>Samsung</td>\n",
       "      <td>2_in_1</td>\n",
       "      <td>16</td>\n",
       "      <td>Full HD</td>\n",
       "      <td>Intel i5</td>\n",
       "      <td>12</td>\n",
       "      <td>Intel Iris Xe Graphics</td>\n",
       "      <td>No OS</td>\n",
       "      <td>4.060656</td>\n",
       "      <td>37019.059051</td>\n",
       "      <td>128GB</td>\n",
       "      <td>0</td>\n",
       "    </tr>\n",
       "    <tr>\n",
       "      <th>2</th>\n",
       "      <td>hp</td>\n",
       "      <td>WorkStation</td>\n",
       "      <td>17</td>\n",
       "      <td>Full HD</td>\n",
       "      <td>Intel Xeon</td>\n",
       "      <td>8</td>\n",
       "      <td>Intel Iris Xe Graphics</td>\n",
       "      <td>Linux</td>\n",
       "      <td>2.901689</td>\n",
       "      <td>33329.360341</td>\n",
       "      <td>0</td>\n",
       "      <td>1TB</td>\n",
       "    </tr>\n",
       "    <tr>\n",
       "      <th>3</th>\n",
       "      <td>MSI</td>\n",
       "      <td>2_in_1</td>\n",
       "      <td>11</td>\n",
       "      <td>2K</td>\n",
       "      <td>Intel i7</td>\n",
       "      <td>16</td>\n",
       "      <td>Intel Iris Xe Graphics</td>\n",
       "      <td>Windows 10</td>\n",
       "      <td>2.914843</td>\n",
       "      <td>68631.102486</td>\n",
       "      <td>512GB</td>\n",
       "      <td>0</td>\n",
       "    </tr>\n",
       "    <tr>\n",
       "      <th>4</th>\n",
       "      <td>Microsoft</td>\n",
       "      <td>Gaming</td>\n",
       "      <td>12</td>\n",
       "      <td>Full HD</td>\n",
       "      <td>Intel i5</td>\n",
       "      <td>8</td>\n",
       "      <td>AMD Radeon RX 5600M</td>\n",
       "      <td>Windows 10</td>\n",
       "      <td>4.341995</td>\n",
       "      <td>33842.479566</td>\n",
       "      <td>512GB</td>\n",
       "      <td>0</td>\n",
       "    </tr>\n",
       "  </tbody>\n",
       "</table>\n",
       "</div>"
      ],
      "text/plain": [
       "  CompanyName TypeOfLaptop  Inches ScreenResolution         Cpu  Ram  \\\n",
       "0         MSI     Business      17   Retina Display    Intel i7   12   \n",
       "1     Samsung       2_in_1      16          Full HD    Intel i5   12   \n",
       "2          hp  WorkStation      17          Full HD  Intel Xeon    8   \n",
       "3         MSI       2_in_1      11               2K    Intel i7   16   \n",
       "4   Microsoft       Gaming      12          Full HD    Intel i5    8   \n",
       "\n",
       "                      Gpu       OpSys    Weight         Price     SSD   HDD  \n",
       "0  Intel Iris Xe Graphics       Linux  2.064834  35844.099371  512GB      0  \n",
       "1  Intel Iris Xe Graphics       No OS  4.060656  37019.059051  128GB      0  \n",
       "2  Intel Iris Xe Graphics       Linux  2.901689  33329.360341       0  1TB   \n",
       "3  Intel Iris Xe Graphics  Windows 10  2.914843  68631.102486  512GB      0  \n",
       "4     AMD Radeon RX 5600M  Windows 10  4.341995  33842.479566  512GB      0  "
      ]
     },
     "execution_count": 34,
     "metadata": {},
     "output_type": "execute_result"
    }
   ],
   "source": [
    "df.head()"
   ]
  },
  {
   "cell_type": "markdown",
   "id": "27413d14-4be3-4bc2-ad5c-74121c537fda",
   "metadata": {},
   "source": [
    "* The last task is to remove the GB and TB from SSD and HDD columns\n",
    "* And the values should be in a single scale hence TB values are multiplied by 1024 to convert it into GB."
   ]
  },
  {
   "cell_type": "code",
   "execution_count": 35,
   "id": "078fa116-433c-451e-92a7-52b356e0186b",
   "metadata": {},
   "outputs": [
    {
     "data": {
      "text/plain": [
       "SSD\n",
       "0         310\n",
       "256GB     196\n",
       "512GB     164\n",
       "1TB       116\n",
       "2TB       112\n",
       "128GB     102\n",
       "Name: count, dtype: int64"
      ]
     },
     "execution_count": 35,
     "metadata": {},
     "output_type": "execute_result"
    }
   ],
   "source": [
    "df[\"SSD\"].value_counts()"
   ]
  },
  {
   "cell_type": "code",
   "execution_count": 36,
   "id": "350aebbe-191e-462b-9047-a7284d6b4212",
   "metadata": {},
   "outputs": [],
   "source": [
    "# to remove GB and TB from SSD column\n",
    "# and to keep in a single scale TB values are multiplied by 1024\n",
    "ssd = []\n",
    "for i in df[\"SSD\"]:\n",
    "    if \"GB\" in i:\n",
    "        ssd.append(int(i.replace(\"GB\",\"\")))\n",
    "    elif \"TB\" in i:\n",
    "        ssd.append(int(i.replace(\"TB\",\"\"))*1024)\n",
    "    else:\n",
    "        ssd.append(int(i))"
   ]
  },
  {
   "cell_type": "code",
   "execution_count": 37,
   "id": "82dea2a7-50fd-4767-ade2-5826cd14b170",
   "metadata": {},
   "outputs": [],
   "source": [
    "df[\"SSD\"] = ssd"
   ]
  },
  {
   "cell_type": "code",
   "execution_count": 38,
   "id": "0206080d-49a7-4d05-b2f9-9a38b932cc96",
   "metadata": {},
   "outputs": [
    {
     "data": {
      "text/plain": [
       "dtype('int64')"
      ]
     },
     "execution_count": 38,
     "metadata": {},
     "output_type": "execute_result"
    }
   ],
   "source": [
    "df[\"SSD\"].dtype"
   ]
  },
  {
   "cell_type": "code",
   "execution_count": 39,
   "id": "5363d652-32d9-46c8-aaca-dec81a343567",
   "metadata": {},
   "outputs": [
    {
     "data": {
      "text/plain": [
       "HDD\n",
       "0       690\n",
       "1TB     155\n",
       "4TB      60\n",
       "2TB      50\n",
       "6TB      45\n",
       "Name: count, dtype: int64"
      ]
     },
     "execution_count": 39,
     "metadata": {},
     "output_type": "execute_result"
    }
   ],
   "source": [
    "df[\"HDD\"].value_counts()"
   ]
  },
  {
   "cell_type": "code",
   "execution_count": 40,
   "id": "adca3ede-c0b2-47b7-b4a1-5446d00c2c80",
   "metadata": {},
   "outputs": [],
   "source": [
    "### as we can see that the values in HDD columns are only in TB hence we have to just erase TB using \".str.replace()\".\n",
    "df[\"HDD\"]= df[\"HDD\"].str.replace(\"TB\",\"\")"
   ]
  },
  {
   "cell_type": "code",
   "execution_count": 41,
   "id": "03cea434-475f-4692-bbcb-41ac9047dfc0",
   "metadata": {},
   "outputs": [],
   "source": [
    "### converting the TB value into GB by multiplying 1024 and also the data type into int64 by using \".astype()\".\n",
    "df[\"HDD\"]= df[\"HDD\"].astype(\"int64\")*1024"
   ]
  },
  {
   "cell_type": "code",
   "execution_count": 42,
   "id": "3a10d116-a86a-420c-aff0-5215986015b9",
   "metadata": {},
   "outputs": [
    {
     "data": {
      "text/html": [
       "<div>\n",
       "<style scoped>\n",
       "    .dataframe tbody tr th:only-of-type {\n",
       "        vertical-align: middle;\n",
       "    }\n",
       "\n",
       "    .dataframe tbody tr th {\n",
       "        vertical-align: top;\n",
       "    }\n",
       "\n",
       "    .dataframe thead th {\n",
       "        text-align: right;\n",
       "    }\n",
       "</style>\n",
       "<table border=\"1\" class=\"dataframe\">\n",
       "  <thead>\n",
       "    <tr style=\"text-align: right;\">\n",
       "      <th></th>\n",
       "      <th>CompanyName</th>\n",
       "      <th>TypeOfLaptop</th>\n",
       "      <th>Inches</th>\n",
       "      <th>ScreenResolution</th>\n",
       "      <th>Cpu</th>\n",
       "      <th>Ram</th>\n",
       "      <th>Gpu</th>\n",
       "      <th>OpSys</th>\n",
       "      <th>Weight</th>\n",
       "      <th>Price</th>\n",
       "      <th>SSD</th>\n",
       "      <th>HDD</th>\n",
       "    </tr>\n",
       "  </thead>\n",
       "  <tbody>\n",
       "    <tr>\n",
       "      <th>0</th>\n",
       "      <td>MSI</td>\n",
       "      <td>Business</td>\n",
       "      <td>17</td>\n",
       "      <td>Retina Display</td>\n",
       "      <td>Intel i7</td>\n",
       "      <td>12</td>\n",
       "      <td>Intel Iris Xe Graphics</td>\n",
       "      <td>Linux</td>\n",
       "      <td>2.064834</td>\n",
       "      <td>35844.099371</td>\n",
       "      <td>512</td>\n",
       "      <td>0</td>\n",
       "    </tr>\n",
       "    <tr>\n",
       "      <th>1</th>\n",
       "      <td>Samsung</td>\n",
       "      <td>2_in_1</td>\n",
       "      <td>16</td>\n",
       "      <td>Full HD</td>\n",
       "      <td>Intel i5</td>\n",
       "      <td>12</td>\n",
       "      <td>Intel Iris Xe Graphics</td>\n",
       "      <td>No OS</td>\n",
       "      <td>4.060656</td>\n",
       "      <td>37019.059051</td>\n",
       "      <td>128</td>\n",
       "      <td>0</td>\n",
       "    </tr>\n",
       "    <tr>\n",
       "      <th>2</th>\n",
       "      <td>hp</td>\n",
       "      <td>WorkStation</td>\n",
       "      <td>17</td>\n",
       "      <td>Full HD</td>\n",
       "      <td>Intel Xeon</td>\n",
       "      <td>8</td>\n",
       "      <td>Intel Iris Xe Graphics</td>\n",
       "      <td>Linux</td>\n",
       "      <td>2.901689</td>\n",
       "      <td>33329.360341</td>\n",
       "      <td>0</td>\n",
       "      <td>1024</td>\n",
       "    </tr>\n",
       "    <tr>\n",
       "      <th>3</th>\n",
       "      <td>MSI</td>\n",
       "      <td>2_in_1</td>\n",
       "      <td>11</td>\n",
       "      <td>2K</td>\n",
       "      <td>Intel i7</td>\n",
       "      <td>16</td>\n",
       "      <td>Intel Iris Xe Graphics</td>\n",
       "      <td>Windows 10</td>\n",
       "      <td>2.914843</td>\n",
       "      <td>68631.102486</td>\n",
       "      <td>512</td>\n",
       "      <td>0</td>\n",
       "    </tr>\n",
       "    <tr>\n",
       "      <th>4</th>\n",
       "      <td>Microsoft</td>\n",
       "      <td>Gaming</td>\n",
       "      <td>12</td>\n",
       "      <td>Full HD</td>\n",
       "      <td>Intel i5</td>\n",
       "      <td>8</td>\n",
       "      <td>AMD Radeon RX 5600M</td>\n",
       "      <td>Windows 10</td>\n",
       "      <td>4.341995</td>\n",
       "      <td>33842.479566</td>\n",
       "      <td>512</td>\n",
       "      <td>0</td>\n",
       "    </tr>\n",
       "  </tbody>\n",
       "</table>\n",
       "</div>"
      ],
      "text/plain": [
       "  CompanyName TypeOfLaptop  Inches ScreenResolution         Cpu  Ram  \\\n",
       "0         MSI     Business      17   Retina Display    Intel i7   12   \n",
       "1     Samsung       2_in_1      16          Full HD    Intel i5   12   \n",
       "2          hp  WorkStation      17          Full HD  Intel Xeon    8   \n",
       "3         MSI       2_in_1      11               2K    Intel i7   16   \n",
       "4   Microsoft       Gaming      12          Full HD    Intel i5    8   \n",
       "\n",
       "                      Gpu       OpSys    Weight         Price  SSD   HDD  \n",
       "0  Intel Iris Xe Graphics       Linux  2.064834  35844.099371  512     0  \n",
       "1  Intel Iris Xe Graphics       No OS  4.060656  37019.059051  128     0  \n",
       "2  Intel Iris Xe Graphics       Linux  2.901689  33329.360341    0  1024  \n",
       "3  Intel Iris Xe Graphics  Windows 10  2.914843  68631.102486  512     0  \n",
       "4     AMD Radeon RX 5600M  Windows 10  4.341995  33842.479566  512     0  "
      ]
     },
     "execution_count": 42,
     "metadata": {},
     "output_type": "execute_result"
    }
   ],
   "source": [
    "df.head()"
   ]
  },
  {
   "cell_type": "markdown",
   "id": "450f0142-8475-48e9-9195-d7716db8d525",
   "metadata": {},
   "source": [
    "#### Step-11\n",
    "* Next column is \"Gpu\".by applying value_counts() we can get the information."
   ]
  },
  {
   "cell_type": "code",
   "execution_count": 43,
   "id": "999cf8c4-bbde-4d9b-ab80-82872e201043",
   "metadata": {},
   "outputs": [
    {
     "data": {
      "text/plain": [
       "Gpu\n",
       "NVIDIA GeForce GTX 1650    348\n",
       "AMD Radeon RX 5600M        339\n",
       "Intel Iris Xe Graphics     313\n",
       "Name: count, dtype: int64"
      ]
     },
     "execution_count": 43,
     "metadata": {},
     "output_type": "execute_result"
    }
   ],
   "source": [
    "df[\"Gpu\"].value_counts()"
   ]
  },
  {
   "cell_type": "markdown",
   "id": "5926fade-a757-4d26-9b2f-df9255a2070d",
   "metadata": {},
   "source": [
    "* As we can see that the Gpu has too long names hence we will change this by lambda function."
   ]
  },
  {
   "cell_type": "code",
   "execution_count": 44,
   "id": "41ddb348-090c-4ab9-b83a-6912f8c43968",
   "metadata": {},
   "outputs": [],
   "source": [
    "gpu = list(map(lambda x: x[:6] if x[0] == \"N\" else (x[:3] if x[0]==\"A\" else x[:5]), df[\"Gpu\"]))"
   ]
  },
  {
   "cell_type": "markdown",
   "id": "8eac7d87-e58e-46db-a6b4-add077746799",
   "metadata": {},
   "source": [
    "* String will change into its parts as following\n",
    "* if Starting index has Letter \"N\" then it will change into \"NVIDIA\"\n",
    "* If starting index has Letter \"A\" then it will change into \"AMD\".\n",
    "* If starting index has Letter anything other than \"N\" or \"A\" then it will change into x[:5]-->Intel"
   ]
  },
  {
   "cell_type": "code",
   "execution_count": 45,
   "id": "9d4d9924-cab0-403d-9ea0-d0f13c96a386",
   "metadata": {},
   "outputs": [],
   "source": [
    "### Editing the column Gpu by giving it value of gpu variable\n",
    "df[\"Gpu\"]= gpu"
   ]
  },
  {
   "cell_type": "code",
   "execution_count": 46,
   "id": "8c34d8ba-2bfa-40b2-a769-ef72aaa956c4",
   "metadata": {},
   "outputs": [
    {
     "data": {
      "text/plain": [
       "Gpu\n",
       "NVIDIA    348\n",
       "AMD       339\n",
       "Intel     313\n",
       "Name: count, dtype: int64"
      ]
     },
     "execution_count": 46,
     "metadata": {},
     "output_type": "execute_result"
    }
   ],
   "source": [
    "df[\"Gpu\"].value_counts()"
   ]
  },
  {
   "cell_type": "code",
   "execution_count": 47,
   "id": "a568f157-6b55-4657-8820-377c78730b22",
   "metadata": {},
   "outputs": [
    {
     "data": {
      "text/html": [
       "<div>\n",
       "<style scoped>\n",
       "    .dataframe tbody tr th:only-of-type {\n",
       "        vertical-align: middle;\n",
       "    }\n",
       "\n",
       "    .dataframe tbody tr th {\n",
       "        vertical-align: top;\n",
       "    }\n",
       "\n",
       "    .dataframe thead th {\n",
       "        text-align: right;\n",
       "    }\n",
       "</style>\n",
       "<table border=\"1\" class=\"dataframe\">\n",
       "  <thead>\n",
       "    <tr style=\"text-align: right;\">\n",
       "      <th></th>\n",
       "      <th>CompanyName</th>\n",
       "      <th>TypeOfLaptop</th>\n",
       "      <th>Inches</th>\n",
       "      <th>ScreenResolution</th>\n",
       "      <th>Cpu</th>\n",
       "      <th>Ram</th>\n",
       "      <th>Gpu</th>\n",
       "      <th>OpSys</th>\n",
       "      <th>Weight</th>\n",
       "      <th>Price</th>\n",
       "      <th>SSD</th>\n",
       "      <th>HDD</th>\n",
       "    </tr>\n",
       "  </thead>\n",
       "  <tbody>\n",
       "    <tr>\n",
       "      <th>0</th>\n",
       "      <td>MSI</td>\n",
       "      <td>Business</td>\n",
       "      <td>17</td>\n",
       "      <td>Retina Display</td>\n",
       "      <td>Intel i7</td>\n",
       "      <td>12</td>\n",
       "      <td>Intel</td>\n",
       "      <td>Linux</td>\n",
       "      <td>2.064834</td>\n",
       "      <td>35844.099371</td>\n",
       "      <td>512</td>\n",
       "      <td>0</td>\n",
       "    </tr>\n",
       "    <tr>\n",
       "      <th>1</th>\n",
       "      <td>Samsung</td>\n",
       "      <td>2_in_1</td>\n",
       "      <td>16</td>\n",
       "      <td>Full HD</td>\n",
       "      <td>Intel i5</td>\n",
       "      <td>12</td>\n",
       "      <td>Intel</td>\n",
       "      <td>No OS</td>\n",
       "      <td>4.060656</td>\n",
       "      <td>37019.059051</td>\n",
       "      <td>128</td>\n",
       "      <td>0</td>\n",
       "    </tr>\n",
       "    <tr>\n",
       "      <th>2</th>\n",
       "      <td>hp</td>\n",
       "      <td>WorkStation</td>\n",
       "      <td>17</td>\n",
       "      <td>Full HD</td>\n",
       "      <td>Intel Xeon</td>\n",
       "      <td>8</td>\n",
       "      <td>Intel</td>\n",
       "      <td>Linux</td>\n",
       "      <td>2.901689</td>\n",
       "      <td>33329.360341</td>\n",
       "      <td>0</td>\n",
       "      <td>1024</td>\n",
       "    </tr>\n",
       "    <tr>\n",
       "      <th>3</th>\n",
       "      <td>MSI</td>\n",
       "      <td>2_in_1</td>\n",
       "      <td>11</td>\n",
       "      <td>2K</td>\n",
       "      <td>Intel i7</td>\n",
       "      <td>16</td>\n",
       "      <td>Intel</td>\n",
       "      <td>Windows 10</td>\n",
       "      <td>2.914843</td>\n",
       "      <td>68631.102486</td>\n",
       "      <td>512</td>\n",
       "      <td>0</td>\n",
       "    </tr>\n",
       "    <tr>\n",
       "      <th>4</th>\n",
       "      <td>Microsoft</td>\n",
       "      <td>Gaming</td>\n",
       "      <td>12</td>\n",
       "      <td>Full HD</td>\n",
       "      <td>Intel i5</td>\n",
       "      <td>8</td>\n",
       "      <td>AMD</td>\n",
       "      <td>Windows 10</td>\n",
       "      <td>4.341995</td>\n",
       "      <td>33842.479566</td>\n",
       "      <td>512</td>\n",
       "      <td>0</td>\n",
       "    </tr>\n",
       "  </tbody>\n",
       "</table>\n",
       "</div>"
      ],
      "text/plain": [
       "  CompanyName TypeOfLaptop  Inches ScreenResolution         Cpu  Ram    Gpu  \\\n",
       "0         MSI     Business      17   Retina Display    Intel i7   12  Intel   \n",
       "1     Samsung       2_in_1      16          Full HD    Intel i5   12  Intel   \n",
       "2          hp  WorkStation      17          Full HD  Intel Xeon    8  Intel   \n",
       "3         MSI       2_in_1      11               2K    Intel i7   16  Intel   \n",
       "4   Microsoft       Gaming      12          Full HD    Intel i5    8    AMD   \n",
       "\n",
       "        OpSys    Weight         Price  SSD   HDD  \n",
       "0       Linux  2.064834  35844.099371  512     0  \n",
       "1       No OS  4.060656  37019.059051  128     0  \n",
       "2       Linux  2.901689  33329.360341    0  1024  \n",
       "3  Windows 10  2.914843  68631.102486  512     0  \n",
       "4  Windows 10  4.341995  33842.479566  512     0  "
      ]
     },
     "execution_count": 47,
     "metadata": {},
     "output_type": "execute_result"
    }
   ],
   "source": [
    "df.head()"
   ]
  },
  {
   "cell_type": "markdown",
   "id": "cb663823-137a-428f-a2a9-c1491646f71f",
   "metadata": {},
   "source": [
    "#### Step-12\n",
    "* Next column is \"Opsys\". by applying value_counts() we can get the information."
   ]
  },
  {
   "cell_type": "code",
   "execution_count": 48,
   "id": "cf7a4a5c-d5f5-4db4-b74b-41f44b4e3336",
   "metadata": {},
   "outputs": [
    {
     "data": {
      "text/plain": [
       "OpSys\n",
       "No OS         224\n",
       "macOS         219\n",
       "Windows 10    194\n",
       "Linux         187\n",
       "Windows 11    176\n",
       "Name: count, dtype: int64"
      ]
     },
     "execution_count": 48,
     "metadata": {},
     "output_type": "execute_result"
    }
   ],
   "source": [
    "df[\"OpSys\"].value_counts()"
   ]
  },
  {
   "cell_type": "markdown",
   "id": "de7951a3-cdbf-4817-b6a7-bcfd32f94f26",
   "metadata": {},
   "source": [
    "* Changing the long names into short using \".str.replace()\" such as No OS --> D OS , Windows --> Win etc."
   ]
  },
  {
   "cell_type": "code",
   "execution_count": 49,
   "id": "57b3ddcc-e9e9-4be6-b255-2807a1dfc881",
   "metadata": {},
   "outputs": [],
   "source": [
    "df[\"OpSys\"] = df[\"OpSys\"].str.replace(\"No \",\"D\")\n",
    "df[\"OpSys\"] = df[\"OpSys\"].str.replace(\"Windows \",\"Win\")"
   ]
  },
  {
   "cell_type": "code",
   "execution_count": 50,
   "id": "7707fd15-5fac-4f13-be7a-3985520c63e3",
   "metadata": {},
   "outputs": [
    {
     "data": {
      "text/plain": [
       "array(['Linux', 'DOS', 'Win10', 'macOS', 'Win11'], dtype=object)"
      ]
     },
     "execution_count": 50,
     "metadata": {},
     "output_type": "execute_result"
    }
   ],
   "source": [
    "### To view the unique values of Opsys we applied \".unique()\" method.\n",
    "df[\"OpSys\"].unique()"
   ]
  },
  {
   "cell_type": "code",
   "execution_count": 51,
   "id": "7615261f-ee6f-4ec4-b8a9-84956f78cb62",
   "metadata": {},
   "outputs": [
    {
     "data": {
      "text/html": [
       "<div>\n",
       "<style scoped>\n",
       "    .dataframe tbody tr th:only-of-type {\n",
       "        vertical-align: middle;\n",
       "    }\n",
       "\n",
       "    .dataframe tbody tr th {\n",
       "        vertical-align: top;\n",
       "    }\n",
       "\n",
       "    .dataframe thead th {\n",
       "        text-align: right;\n",
       "    }\n",
       "</style>\n",
       "<table border=\"1\" class=\"dataframe\">\n",
       "  <thead>\n",
       "    <tr style=\"text-align: right;\">\n",
       "      <th></th>\n",
       "      <th>CompanyName</th>\n",
       "      <th>TypeOfLaptop</th>\n",
       "      <th>Inches</th>\n",
       "      <th>ScreenResolution</th>\n",
       "      <th>Cpu</th>\n",
       "      <th>Ram</th>\n",
       "      <th>Gpu</th>\n",
       "      <th>OpSys</th>\n",
       "      <th>Weight</th>\n",
       "      <th>Price</th>\n",
       "      <th>SSD</th>\n",
       "      <th>HDD</th>\n",
       "    </tr>\n",
       "  </thead>\n",
       "  <tbody>\n",
       "    <tr>\n",
       "      <th>0</th>\n",
       "      <td>MSI</td>\n",
       "      <td>Business</td>\n",
       "      <td>17</td>\n",
       "      <td>Retina Display</td>\n",
       "      <td>Intel i7</td>\n",
       "      <td>12</td>\n",
       "      <td>Intel</td>\n",
       "      <td>Linux</td>\n",
       "      <td>2.064834</td>\n",
       "      <td>35844.099371</td>\n",
       "      <td>512</td>\n",
       "      <td>0</td>\n",
       "    </tr>\n",
       "    <tr>\n",
       "      <th>1</th>\n",
       "      <td>Samsung</td>\n",
       "      <td>2_in_1</td>\n",
       "      <td>16</td>\n",
       "      <td>Full HD</td>\n",
       "      <td>Intel i5</td>\n",
       "      <td>12</td>\n",
       "      <td>Intel</td>\n",
       "      <td>DOS</td>\n",
       "      <td>4.060656</td>\n",
       "      <td>37019.059051</td>\n",
       "      <td>128</td>\n",
       "      <td>0</td>\n",
       "    </tr>\n",
       "    <tr>\n",
       "      <th>2</th>\n",
       "      <td>hp</td>\n",
       "      <td>WorkStation</td>\n",
       "      <td>17</td>\n",
       "      <td>Full HD</td>\n",
       "      <td>Intel Xeon</td>\n",
       "      <td>8</td>\n",
       "      <td>Intel</td>\n",
       "      <td>Linux</td>\n",
       "      <td>2.901689</td>\n",
       "      <td>33329.360341</td>\n",
       "      <td>0</td>\n",
       "      <td>1024</td>\n",
       "    </tr>\n",
       "    <tr>\n",
       "      <th>3</th>\n",
       "      <td>MSI</td>\n",
       "      <td>2_in_1</td>\n",
       "      <td>11</td>\n",
       "      <td>2K</td>\n",
       "      <td>Intel i7</td>\n",
       "      <td>16</td>\n",
       "      <td>Intel</td>\n",
       "      <td>Win10</td>\n",
       "      <td>2.914843</td>\n",
       "      <td>68631.102486</td>\n",
       "      <td>512</td>\n",
       "      <td>0</td>\n",
       "    </tr>\n",
       "    <tr>\n",
       "      <th>4</th>\n",
       "      <td>Microsoft</td>\n",
       "      <td>Gaming</td>\n",
       "      <td>12</td>\n",
       "      <td>Full HD</td>\n",
       "      <td>Intel i5</td>\n",
       "      <td>8</td>\n",
       "      <td>AMD</td>\n",
       "      <td>Win10</td>\n",
       "      <td>4.341995</td>\n",
       "      <td>33842.479566</td>\n",
       "      <td>512</td>\n",
       "      <td>0</td>\n",
       "    </tr>\n",
       "  </tbody>\n",
       "</table>\n",
       "</div>"
      ],
      "text/plain": [
       "  CompanyName TypeOfLaptop  Inches ScreenResolution         Cpu  Ram    Gpu  \\\n",
       "0         MSI     Business      17   Retina Display    Intel i7   12  Intel   \n",
       "1     Samsung       2_in_1      16          Full HD    Intel i5   12  Intel   \n",
       "2          hp  WorkStation      17          Full HD  Intel Xeon    8  Intel   \n",
       "3         MSI       2_in_1      11               2K    Intel i7   16  Intel   \n",
       "4   Microsoft       Gaming      12          Full HD    Intel i5    8    AMD   \n",
       "\n",
       "   OpSys    Weight         Price  SSD   HDD  \n",
       "0  Linux  2.064834  35844.099371  512     0  \n",
       "1    DOS  4.060656  37019.059051  128     0  \n",
       "2  Linux  2.901689  33329.360341    0  1024  \n",
       "3  Win10  2.914843  68631.102486  512     0  \n",
       "4  Win10  4.341995  33842.479566  512     0  "
      ]
     },
     "execution_count": 51,
     "metadata": {},
     "output_type": "execute_result"
    }
   ],
   "source": [
    "df.head()"
   ]
  },
  {
   "cell_type": "markdown",
   "id": "a3b78935-2d6f-4b49-bf51-cb7bac49eed7",
   "metadata": {},
   "source": [
    "#### Step-13\n",
    "* Next column is Price. we dont need this huge numbers with decimals so we convert its datatype as int64 using \".astype()\"."
   ]
  },
  {
   "cell_type": "code",
   "execution_count": 52,
   "id": "a3be4b82-66a7-471e-8e5e-371cf5ab56e7",
   "metadata": {},
   "outputs": [],
   "source": [
    "df[\"Price\"] = df[\"Price\"].astype(\"int64\")"
   ]
  },
  {
   "cell_type": "code",
   "execution_count": 53,
   "id": "5307a801-89c5-4c75-9f2e-cfad5aacb928",
   "metadata": {},
   "outputs": [
    {
     "data": {
      "text/html": [
       "<div>\n",
       "<style scoped>\n",
       "    .dataframe tbody tr th:only-of-type {\n",
       "        vertical-align: middle;\n",
       "    }\n",
       "\n",
       "    .dataframe tbody tr th {\n",
       "        vertical-align: top;\n",
       "    }\n",
       "\n",
       "    .dataframe thead th {\n",
       "        text-align: right;\n",
       "    }\n",
       "</style>\n",
       "<table border=\"1\" class=\"dataframe\">\n",
       "  <thead>\n",
       "    <tr style=\"text-align: right;\">\n",
       "      <th></th>\n",
       "      <th>CompanyName</th>\n",
       "      <th>TypeOfLaptop</th>\n",
       "      <th>Inches</th>\n",
       "      <th>ScreenResolution</th>\n",
       "      <th>Cpu</th>\n",
       "      <th>Ram</th>\n",
       "      <th>Gpu</th>\n",
       "      <th>OpSys</th>\n",
       "      <th>Weight</th>\n",
       "      <th>Price</th>\n",
       "      <th>SSD</th>\n",
       "      <th>HDD</th>\n",
       "    </tr>\n",
       "  </thead>\n",
       "  <tbody>\n",
       "    <tr>\n",
       "      <th>0</th>\n",
       "      <td>MSI</td>\n",
       "      <td>Business</td>\n",
       "      <td>17</td>\n",
       "      <td>Retina Display</td>\n",
       "      <td>Intel i7</td>\n",
       "      <td>12</td>\n",
       "      <td>Intel</td>\n",
       "      <td>Linux</td>\n",
       "      <td>2.064834</td>\n",
       "      <td>35844</td>\n",
       "      <td>512</td>\n",
       "      <td>0</td>\n",
       "    </tr>\n",
       "    <tr>\n",
       "      <th>1</th>\n",
       "      <td>Samsung</td>\n",
       "      <td>2_in_1</td>\n",
       "      <td>16</td>\n",
       "      <td>Full HD</td>\n",
       "      <td>Intel i5</td>\n",
       "      <td>12</td>\n",
       "      <td>Intel</td>\n",
       "      <td>DOS</td>\n",
       "      <td>4.060656</td>\n",
       "      <td>37019</td>\n",
       "      <td>128</td>\n",
       "      <td>0</td>\n",
       "    </tr>\n",
       "    <tr>\n",
       "      <th>2</th>\n",
       "      <td>hp</td>\n",
       "      <td>WorkStation</td>\n",
       "      <td>17</td>\n",
       "      <td>Full HD</td>\n",
       "      <td>Intel Xeon</td>\n",
       "      <td>8</td>\n",
       "      <td>Intel</td>\n",
       "      <td>Linux</td>\n",
       "      <td>2.901689</td>\n",
       "      <td>33329</td>\n",
       "      <td>0</td>\n",
       "      <td>1024</td>\n",
       "    </tr>\n",
       "    <tr>\n",
       "      <th>3</th>\n",
       "      <td>MSI</td>\n",
       "      <td>2_in_1</td>\n",
       "      <td>11</td>\n",
       "      <td>2K</td>\n",
       "      <td>Intel i7</td>\n",
       "      <td>16</td>\n",
       "      <td>Intel</td>\n",
       "      <td>Win10</td>\n",
       "      <td>2.914843</td>\n",
       "      <td>68631</td>\n",
       "      <td>512</td>\n",
       "      <td>0</td>\n",
       "    </tr>\n",
       "    <tr>\n",
       "      <th>4</th>\n",
       "      <td>Microsoft</td>\n",
       "      <td>Gaming</td>\n",
       "      <td>12</td>\n",
       "      <td>Full HD</td>\n",
       "      <td>Intel i5</td>\n",
       "      <td>8</td>\n",
       "      <td>AMD</td>\n",
       "      <td>Win10</td>\n",
       "      <td>4.341995</td>\n",
       "      <td>33842</td>\n",
       "      <td>512</td>\n",
       "      <td>0</td>\n",
       "    </tr>\n",
       "  </tbody>\n",
       "</table>\n",
       "</div>"
      ],
      "text/plain": [
       "  CompanyName TypeOfLaptop  Inches ScreenResolution         Cpu  Ram    Gpu  \\\n",
       "0         MSI     Business      17   Retina Display    Intel i7   12  Intel   \n",
       "1     Samsung       2_in_1      16          Full HD    Intel i5   12  Intel   \n",
       "2          hp  WorkStation      17          Full HD  Intel Xeon    8  Intel   \n",
       "3         MSI       2_in_1      11               2K    Intel i7   16  Intel   \n",
       "4   Microsoft       Gaming      12          Full HD    Intel i5    8    AMD   \n",
       "\n",
       "   OpSys    Weight  Price  SSD   HDD  \n",
       "0  Linux  2.064834  35844  512     0  \n",
       "1    DOS  4.060656  37019  128     0  \n",
       "2  Linux  2.901689  33329    0  1024  \n",
       "3  Win10  2.914843  68631  512     0  \n",
       "4  Win10  4.341995  33842  512     0  "
      ]
     },
     "execution_count": 53,
     "metadata": {},
     "output_type": "execute_result"
    }
   ],
   "source": [
    "df.head()"
   ]
  },
  {
   "cell_type": "markdown",
   "id": "e0b62ce0-234f-4b0d-ad3d-abcfc9934455",
   "metadata": {},
   "source": [
    "# Data Visualization / Analysis"
   ]
  },
  {
   "cell_type": "code",
   "execution_count": 54,
   "id": "207628a8-7ae7-4bec-895d-0c2cb838b883",
   "metadata": {},
   "outputs": [
    {
     "data": {
      "image/png": "[encoded data removed]",
      "text/plain": [
       "<Figure size 640x480 with 1 Axes>"
      ]
     },
     "metadata": {},
     "output_type": "display_data"
    }
   ],
   "source": [
    "sns.countplot(x = df[\"CompanyName\"])\n",
    "plt.show() "
   ]
  },
  {
   "cell_type": "code",
   "execution_count": 55,
   "id": "c76579d5-bc07-4a8a-8a12-078c460dcef9",
   "metadata": {},
   "outputs": [
    {
     "data": {
      "text/html": [
       "<div>\n",
       "<style scoped>\n",
       "    .dataframe tbody tr th:only-of-type {\n",
       "        vertical-align: middle;\n",
       "    }\n",
       "\n",
       "    .dataframe tbody tr th {\n",
       "        vertical-align: top;\n",
       "    }\n",
       "\n",
       "    .dataframe thead th {\n",
       "        text-align: right;\n",
       "    }\n",
       "</style>\n",
       "<table border=\"1\" class=\"dataframe\">\n",
       "  <thead>\n",
       "    <tr style=\"text-align: right;\">\n",
       "      <th>TypeOfLaptop</th>\n",
       "      <th>2_in_1</th>\n",
       "      <th>Business</th>\n",
       "      <th>Gaming</th>\n",
       "      <th>NoteBook</th>\n",
       "      <th>UltraBook</th>\n",
       "      <th>WorkStation</th>\n",
       "    </tr>\n",
       "    <tr>\n",
       "      <th>CompanyName</th>\n",
       "      <th></th>\n",
       "      <th></th>\n",
       "      <th></th>\n",
       "      <th></th>\n",
       "      <th></th>\n",
       "      <th></th>\n",
       "    </tr>\n",
       "  </thead>\n",
       "  <tbody>\n",
       "    <tr>\n",
       "      <th>Acer</th>\n",
       "      <td>18</td>\n",
       "      <td>15</td>\n",
       "      <td>16</td>\n",
       "      <td>17</td>\n",
       "      <td>17</td>\n",
       "      <td>24</td>\n",
       "    </tr>\n",
       "    <tr>\n",
       "      <th>Apple</th>\n",
       "      <td>24</td>\n",
       "      <td>16</td>\n",
       "      <td>21</td>\n",
       "      <td>12</td>\n",
       "      <td>20</td>\n",
       "      <td>20</td>\n",
       "    </tr>\n",
       "    <tr>\n",
       "      <th>Asus</th>\n",
       "      <td>17</td>\n",
       "      <td>20</td>\n",
       "      <td>21</td>\n",
       "      <td>11</td>\n",
       "      <td>25</td>\n",
       "      <td>18</td>\n",
       "    </tr>\n",
       "    <tr>\n",
       "      <th>Dell</th>\n",
       "      <td>12</td>\n",
       "      <td>16</td>\n",
       "      <td>21</td>\n",
       "      <td>15</td>\n",
       "      <td>17</td>\n",
       "      <td>20</td>\n",
       "    </tr>\n",
       "    <tr>\n",
       "      <th>MSI</th>\n",
       "      <td>16</td>\n",
       "      <td>28</td>\n",
       "      <td>22</td>\n",
       "      <td>26</td>\n",
       "      <td>13</td>\n",
       "      <td>23</td>\n",
       "    </tr>\n",
       "    <tr>\n",
       "      <th>Microsoft</th>\n",
       "      <td>27</td>\n",
       "      <td>22</td>\n",
       "      <td>27</td>\n",
       "      <td>15</td>\n",
       "      <td>13</td>\n",
       "      <td>14</td>\n",
       "    </tr>\n",
       "    <tr>\n",
       "      <th>Samsung</th>\n",
       "      <td>13</td>\n",
       "      <td>24</td>\n",
       "      <td>14</td>\n",
       "      <td>18</td>\n",
       "      <td>18</td>\n",
       "      <td>22</td>\n",
       "    </tr>\n",
       "    <tr>\n",
       "      <th>hp</th>\n",
       "      <td>17</td>\n",
       "      <td>15</td>\n",
       "      <td>16</td>\n",
       "      <td>20</td>\n",
       "      <td>21</td>\n",
       "      <td>10</td>\n",
       "    </tr>\n",
       "    <tr>\n",
       "      <th>lenevo</th>\n",
       "      <td>18</td>\n",
       "      <td>20</td>\n",
       "      <td>10</td>\n",
       "      <td>19</td>\n",
       "      <td>22</td>\n",
       "      <td>24</td>\n",
       "    </tr>\n",
       "  </tbody>\n",
       "</table>\n",
       "</div>"
      ],
      "text/plain": [
       "TypeOfLaptop  2_in_1  Business  Gaming  NoteBook  UltraBook  WorkStation\n",
       "CompanyName                                                             \n",
       "Acer              18        15      16        17         17           24\n",
       "Apple             24        16      21        12         20           20\n",
       "Asus              17        20      21        11         25           18\n",
       "Dell              12        16      21        15         17           20\n",
       "MSI               16        28      22        26         13           23\n",
       "Microsoft         27        22      27        15         13           14\n",
       "Samsung           13        24      14        18         18           22\n",
       "hp                17        15      16        20         21           10\n",
       "lenevo            18        20      10        19         22           24"
      ]
     },
     "execution_count": 55,
     "metadata": {},
     "output_type": "execute_result"
    }
   ],
   "source": [
    "### To analyse the relation between two columns we use \"crosstab\".\n",
    "pd.crosstab(df[\"CompanyName\"], df[\"TypeOfLaptop\"])"
   ]
  },
  {
   "cell_type": "code",
   "execution_count": null,
   "id": "5e385fce-72d4-40f0-ac49-aa87bb58a07f",
   "metadata": {},
   "outputs": [],
   "source": []
  }
 ],
 "metadata": {
  "kernelspec": {
   "display_name": "Python 3 (ipykernel)",
   "language": "python",
   "name": "python3"
  },
  "language_info": {
   "codemirror_mode": {
    "name": "ipython",
    "version": 3
   },
   "file_extension": ".py",
   "mimetype": "text/x-python",
   "name": "python",
   "nbconvert_exporter": "python",
   "pygments_lexer": "ipython3",
   "version": "3.11.5"
  }
 },
 "nbformat": 4,
 "nbformat_minor": 5
}
