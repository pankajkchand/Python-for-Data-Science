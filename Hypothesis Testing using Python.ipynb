{
 "cells": [
  {
   "cell_type": "code",
   "execution_count": 1,
   "id": "86874a08-8037-4514-9f5e-40ccb9474650",
   "metadata": {},
   "outputs": [],
   "source": [
    "import numpy as np\n",
    "import pandas as pd\n",
    "import matplotlib.pyplot as plt\n",
    "import seaborn as sns\n",
    "import scipy as sp\n",
    "from scipy.stats import shapiro, spearmanr, chi2_contingency, ttest_ind\n",
    "from sklearn.datasets import load_wine, make_classification\n",
    "import warnings\n",
    "warnings.filterwarnings(\"ignore\")"
   ]
  },
  {
   "cell_type": "markdown",
   "id": "28eeff0a-e874-4bb5-a55e-2c2991d8c3f4",
   "metadata": {},
   "source": [
    "# Hypothesis Testing using Python\n",
    "* Here we are going to perform different tests of hypothesis on different datasets.\n",
    "* First dataset is of Wine (Already inbuilt) and Second is a random dataset (created by us)"
   ]
  },
  {
   "cell_type": "code",
   "execution_count": 2,
   "id": "46b00872-557c-4a7b-8412-2fd2bc5658e4",
   "metadata": {},
   "outputs": [],
   "source": [
    "wine = load_wine()"
   ]
  },
  {
   "cell_type": "code",
   "execution_count": 3,
   "id": "3af7e890-7518-4d6d-90cb-c8affa9d0eec",
   "metadata": {},
   "outputs": [],
   "source": [
    "wine_df = pd.DataFrame(wine.data, columns=wine.feature_names)\n",
    "wine_df[\"target\"] = wine.target"
   ]
  },
  {
   "cell_type": "code",
   "execution_count": 4,
   "id": "3d2ad9d2-b038-490d-a4fc-cc4dab498dfc",
   "metadata": {},
   "outputs": [],
   "source": [
    "data, target = make_classification(n_samples=400, n_features=5, n_classes=2)"
   ]
  },
  {
   "cell_type": "code",
   "execution_count": 5,
   "id": "931a7a09-ca32-4ac5-a236-c47da34016a4",
   "metadata": {},
   "outputs": [],
   "source": [
    "df = pd.DataFrame(data, columns=[f\"feature{i}\" for i in range(1,6)])\n",
    "df[\"target\"] = target"
   ]
  },
  {
   "cell_type": "code",
   "execution_count": 6,
   "id": "6e52869a-578c-49b4-9b2d-2d431a144d75",
   "metadata": {},
   "outputs": [],
   "source": [
    "wine = wine_df.copy()"
   ]
  },
  {
   "cell_type": "code",
   "execution_count": 7,
   "id": "7b1730fb-1711-4267-a5e7-2d093e1947ba",
   "metadata": {},
   "outputs": [
    {
     "data": {
      "text/html": [
       "<div>\n",
       "<style scoped>\n",
       "    .dataframe tbody tr th:only-of-type {\n",
       "        vertical-align: middle;\n",
       "    }\n",
       "\n",
       "    .dataframe tbody tr th {\n",
       "        vertical-align: top;\n",
       "    }\n",
       "\n",
       "    .dataframe thead th {\n",
       "        text-align: right;\n",
       "    }\n",
       "</style>\n",
       "<table border=\"1\" class=\"dataframe\">\n",
       "  <thead>\n",
       "    <tr style=\"text-align: right;\">\n",
       "      <th></th>\n",
       "      <th>alcohol</th>\n",
       "      <th>malic_acid</th>\n",
       "      <th>ash</th>\n",
       "      <th>alcalinity_of_ash</th>\n",
       "      <th>magnesium</th>\n",
       "      <th>total_phenols</th>\n",
       "      <th>flavanoids</th>\n",
       "      <th>nonflavanoid_phenols</th>\n",
       "      <th>proanthocyanins</th>\n",
       "      <th>color_intensity</th>\n",
       "      <th>hue</th>\n",
       "      <th>od280/od315_of_diluted_wines</th>\n",
       "      <th>proline</th>\n",
       "      <th>target</th>\n",
       "    </tr>\n",
       "  </thead>\n",
       "  <tbody>\n",
       "    <tr>\n",
       "      <th>0</th>\n",
       "      <td>14.23</td>\n",
       "      <td>1.71</td>\n",
       "      <td>2.43</td>\n",
       "      <td>15.6</td>\n",
       "      <td>127.0</td>\n",
       "      <td>2.80</td>\n",
       "      <td>3.06</td>\n",
       "      <td>0.28</td>\n",
       "      <td>2.29</td>\n",
       "      <td>5.64</td>\n",
       "      <td>1.04</td>\n",
       "      <td>3.92</td>\n",
       "      <td>1065.0</td>\n",
       "      <td>0</td>\n",
       "    </tr>\n",
       "    <tr>\n",
       "      <th>1</th>\n",
       "      <td>13.20</td>\n",
       "      <td>1.78</td>\n",
       "      <td>2.14</td>\n",
       "      <td>11.2</td>\n",
       "      <td>100.0</td>\n",
       "      <td>2.65</td>\n",
       "      <td>2.76</td>\n",
       "      <td>0.26</td>\n",
       "      <td>1.28</td>\n",
       "      <td>4.38</td>\n",
       "      <td>1.05</td>\n",
       "      <td>3.40</td>\n",
       "      <td>1050.0</td>\n",
       "      <td>0</td>\n",
       "    </tr>\n",
       "    <tr>\n",
       "      <th>2</th>\n",
       "      <td>13.16</td>\n",
       "      <td>2.36</td>\n",
       "      <td>2.67</td>\n",
       "      <td>18.6</td>\n",
       "      <td>101.0</td>\n",
       "      <td>2.80</td>\n",
       "      <td>3.24</td>\n",
       "      <td>0.30</td>\n",
       "      <td>2.81</td>\n",
       "      <td>5.68</td>\n",
       "      <td>1.03</td>\n",
       "      <td>3.17</td>\n",
       "      <td>1185.0</td>\n",
       "      <td>0</td>\n",
       "    </tr>\n",
       "    <tr>\n",
       "      <th>3</th>\n",
       "      <td>14.37</td>\n",
       "      <td>1.95</td>\n",
       "      <td>2.50</td>\n",
       "      <td>16.8</td>\n",
       "      <td>113.0</td>\n",
       "      <td>3.85</td>\n",
       "      <td>3.49</td>\n",
       "      <td>0.24</td>\n",
       "      <td>2.18</td>\n",
       "      <td>7.80</td>\n",
       "      <td>0.86</td>\n",
       "      <td>3.45</td>\n",
       "      <td>1480.0</td>\n",
       "      <td>0</td>\n",
       "    </tr>\n",
       "    <tr>\n",
       "      <th>4</th>\n",
       "      <td>13.24</td>\n",
       "      <td>2.59</td>\n",
       "      <td>2.87</td>\n",
       "      <td>21.0</td>\n",
       "      <td>118.0</td>\n",
       "      <td>2.80</td>\n",
       "      <td>2.69</td>\n",
       "      <td>0.39</td>\n",
       "      <td>1.82</td>\n",
       "      <td>4.32</td>\n",
       "      <td>1.04</td>\n",
       "      <td>2.93</td>\n",
       "      <td>735.0</td>\n",
       "      <td>0</td>\n",
       "    </tr>\n",
       "  </tbody>\n",
       "</table>\n",
       "</div>"
      ],
      "text/plain": [
       "   alcohol  malic_acid   ash  alcalinity_of_ash  magnesium  total_phenols  \\\n",
       "0    14.23        1.71  2.43               15.6      127.0           2.80   \n",
       "1    13.20        1.78  2.14               11.2      100.0           2.65   \n",
       "2    13.16        2.36  2.67               18.6      101.0           2.80   \n",
       "3    14.37        1.95  2.50               16.8      113.0           3.85   \n",
       "4    13.24        2.59  2.87               21.0      118.0           2.80   \n",
       "\n",
       "   flavanoids  nonflavanoid_phenols  proanthocyanins  color_intensity   hue  \\\n",
       "0        3.06                  0.28             2.29             5.64  1.04   \n",
       "1        2.76                  0.26             1.28             4.38  1.05   \n",
       "2        3.24                  0.30             2.81             5.68  1.03   \n",
       "3        3.49                  0.24             2.18             7.80  0.86   \n",
       "4        2.69                  0.39             1.82             4.32  1.04   \n",
       "\n",
       "   od280/od315_of_diluted_wines  proline  target  \n",
       "0                          3.92   1065.0       0  \n",
       "1                          3.40   1050.0       0  \n",
       "2                          3.17   1185.0       0  \n",
       "3                          3.45   1480.0       0  \n",
       "4                          2.93    735.0       0  "
      ]
     },
     "execution_count": 7,
     "metadata": {},
     "output_type": "execute_result"
    }
   ],
   "source": [
    "wine.head()"
   ]
  },
  {
   "cell_type": "code",
   "execution_count": 8,
   "id": "f2e0eee5-dc2f-44be-98ae-d329324b5f65",
   "metadata": {},
   "outputs": [
    {
     "data": {
      "text/html": [
       "<div>\n",
       "<style scoped>\n",
       "    .dataframe tbody tr th:only-of-type {\n",
       "        vertical-align: middle;\n",
       "    }\n",
       "\n",
       "    .dataframe tbody tr th {\n",
       "        vertical-align: top;\n",
       "    }\n",
       "\n",
       "    .dataframe thead th {\n",
       "        text-align: right;\n",
       "    }\n",
       "</style>\n",
       "<table border=\"1\" class=\"dataframe\">\n",
       "  <thead>\n",
       "    <tr style=\"text-align: right;\">\n",
       "      <th></th>\n",
       "      <th>feature1</th>\n",
       "      <th>feature2</th>\n",
       "      <th>feature3</th>\n",
       "      <th>feature4</th>\n",
       "      <th>feature5</th>\n",
       "      <th>target</th>\n",
       "    </tr>\n",
       "  </thead>\n",
       "  <tbody>\n",
       "    <tr>\n",
       "      <th>0</th>\n",
       "      <td>-0.142014</td>\n",
       "      <td>0.889916</td>\n",
       "      <td>-0.212953</td>\n",
       "      <td>-0.727304</td>\n",
       "      <td>0.483113</td>\n",
       "      <td>0</td>\n",
       "    </tr>\n",
       "    <tr>\n",
       "      <th>1</th>\n",
       "      <td>-0.094950</td>\n",
       "      <td>0.438852</td>\n",
       "      <td>-0.141987</td>\n",
       "      <td>-0.470246</td>\n",
       "      <td>0.317178</td>\n",
       "      <td>1</td>\n",
       "    </tr>\n",
       "    <tr>\n",
       "      <th>2</th>\n",
       "      <td>0.770913</td>\n",
       "      <td>-0.162725</td>\n",
       "      <td>1.038009</td>\n",
       "      <td>-0.869430</td>\n",
       "      <td>-0.869951</td>\n",
       "      <td>0</td>\n",
       "    </tr>\n",
       "    <tr>\n",
       "      <th>3</th>\n",
       "      <td>0.274901</td>\n",
       "      <td>-2.285105</td>\n",
       "      <td>0.339706</td>\n",
       "      <td>-1.552836</td>\n",
       "      <td>0.141908</td>\n",
       "      <td>0</td>\n",
       "    </tr>\n",
       "    <tr>\n",
       "      <th>4</th>\n",
       "      <td>-0.265335</td>\n",
       "      <td>0.393926</td>\n",
       "      <td>-0.383927</td>\n",
       "      <td>-0.789381</td>\n",
       "      <td>0.695457</td>\n",
       "      <td>1</td>\n",
       "    </tr>\n",
       "  </tbody>\n",
       "</table>\n",
       "</div>"
      ],
      "text/plain": [
       "   feature1  feature2  feature3  feature4  feature5  target\n",
       "0 -0.142014  0.889916 -0.212953 -0.727304  0.483113       0\n",
       "1 -0.094950  0.438852 -0.141987 -0.470246  0.317178       1\n",
       "2  0.770913 -0.162725  1.038009 -0.869430 -0.869951       0\n",
       "3  0.274901 -2.285105  0.339706 -1.552836  0.141908       0\n",
       "4 -0.265335  0.393926 -0.383927 -0.789381  0.695457       1"
      ]
     },
     "execution_count": 8,
     "metadata": {},
     "output_type": "execute_result"
    }
   ],
   "source": [
    "df.head()"
   ]
  },
  {
   "cell_type": "markdown",
   "id": "e6a2fa0f-1cf7-4070-8521-ccf372bbcdc6",
   "metadata": {},
   "source": [
    "## Shapiro Test\n",
    "* Shapiro also has values as Z-Test\n",
    "* Statistical value and P-Value"
   ]
  },
  {
   "cell_type": "code",
   "execution_count": 15,
   "id": "8f5961ee-6d2a-4c23-a852-09c8a3a9b3b3",
   "metadata": {},
   "outputs": [
    {
     "data": {
      "image/png": "[encoded data removed]",
      "text/plain": [
       "<Figure size 640x480 with 1 Axes>"
      ]
     },
     "metadata": {},
     "output_type": "display_data"
    }
   ],
   "source": [
    "plt.title(\"Alcohol column Distribution\")\n",
    "sns.histplot(wine[\"alcohol\"], kde=True, alpha=0.7)\n",
    "plt.show()"
   ]
  },
  {
   "cell_type": "code",
   "execution_count": 16,
   "id": "906c2604-b2a6-4827-9991-14623bdccd1f",
   "metadata": {},
   "outputs": [
    {
     "name": "stdout",
     "output_type": "stream",
     "text": [
      "Shapiro Statistical Value ;  0.981804609298706\n",
      "Shapiro p_value :  0.020050711929798126\n",
      "Data is not normally distributed (Rejecting H0)\n"
     ]
    }
   ],
   "source": [
    "# H0 -->  Data is normally distributed\n",
    "# Ha --> Data is not normally distributed\n",
    "\n",
    "# Checking whether to accept the null hypothesis or reject it.\n",
    "# shapiro\n",
    "sh_stat, sh_p= shapiro(wine[\"alcohol\"])\n",
    "\n",
    "print(\"Shapiro Statistical Value ; \", sh_stat)\n",
    "print(\"Shapiro p_value : \", sh_p)\n",
    "\n",
    "alpha = 0.05\n",
    "if sh_p > alpha:\n",
    "    print(\"Data is normally distributed (Accepting H0)\")\n",
    "else:\n",
    "    print(\"Data is not normally distributed (Rejecting H0)\")"
   ]
  },
  {
   "cell_type": "code",
   "execution_count": 17,
   "id": "cbb595c5-2318-435a-8efd-f31ccc09c8cd",
   "metadata": {},
   "outputs": [
    {
     "data": {
      "image/png": "[encoded data removed]",
      "text/plain": [
       "<Figure size 640x480 with 1 Axes>"
      ]
     },
     "metadata": {},
     "output_type": "display_data"
    }
   ],
   "source": [
    "plt.title(\"Feature column Distribution\")\n",
    "sns.histplot(df[\"feature1\"], kde=True, alpha=0.7)\n",
    "plt.show()"
   ]
  },
  {
   "cell_type": "code",
   "execution_count": 20,
   "id": "92e495bb-f253-4ef2-b131-709c7f597a05",
   "metadata": {},
   "outputs": [
    {
     "name": "stdout",
     "output_type": "stream",
     "text": [
      "Shapiro Statistical Value ;  0.9842919707298279\n",
      "Shapiro p_value :  0.0002468382299412042\n",
      "Data is not normally distributed (Rejecting H0)\n"
     ]
    }
   ],
   "source": [
    "# H0 -> Data is normally distributed\n",
    "# Ha -> Data is not normally distributed\n",
    "\n",
    "# Checking whether to accept the null hypothesis or reject it.\n",
    "sh_stat, sh_p= shapiro(df[\"feature1\"])\n",
    "\n",
    "print(\"Shapiro Statistical Value ; \", sh_stat)\n",
    "print(\"Shapiro p_value : \", sh_p)\n",
    "\n",
    "alpha = 0.05\n",
    "if sh_p > alpha:\n",
    "    print(\"Data is normally distributed (Accepting H0)\")\n",
    "else:\n",
    "    print(\"Data is not normally distributed (Rejecting H0)\")"
   ]
  },
  {
   "cell_type": "code",
   "execution_count": 21,
   "id": "a775cea5-6bc9-45d3-ad7b-00c190a77f4f",
   "metadata": {},
   "outputs": [
    {
     "data": {
      "text/plain": [
       "Index(['alcohol', 'malic_acid', 'ash', 'alcalinity_of_ash', 'magnesium',\n",
       "       'total_phenols', 'flavanoids', 'nonflavanoid_phenols',\n",
       "       'proanthocyanins', 'color_intensity', 'hue',\n",
       "       'od280/od315_of_diluted_wines', 'proline', 'target'],\n",
       "      dtype='object')"
      ]
     },
     "execution_count": 21,
     "metadata": {},
     "output_type": "execute_result"
    }
   ],
   "source": [
    "wine.columns"
   ]
  },
  {
   "cell_type": "markdown",
   "id": "a4be37bd-eafd-4820-b821-3c0f30ae0ab8",
   "metadata": {},
   "source": [
    "## Spearman Test\n",
    "* This test is performed to check if there is any correlation in two columns or not.\n",
    "* it has values -1 -->Negative Dependency, 0 -->No Correlation, +1 --> Positive Dependency.\n",
    "* values can lie nearby to the above values."
   ]
  },
  {
   "cell_type": "code",
   "execution_count": 22,
   "id": "b1fa841c-d5a3-4c0c-ae03-6b5174a8b4a3",
   "metadata": {},
   "outputs": [
    {
     "data": {
      "image/png": "[encoded data removed]",
      "text/plain": [
       "<Figure size 640x480 with 1 Axes>"
      ]
     },
     "metadata": {},
     "output_type": "display_data"
    }
   ],
   "source": [
    "plt.title(\"Total_Phenols and Malic_acid Distribution\")\n",
    "sns.scatterplot(x=wine[\"total_phenols\"],y=wine[\"malic_acid\"], alpha=0.7)\n",
    "plt.show()"
   ]
  },
  {
   "cell_type": "code",
   "execution_count": 23,
   "id": "d38bf07d-39ee-4e2f-b5fc-12d7b7fb3643",
   "metadata": {},
   "outputs": [
    {
     "name": "stdout",
     "output_type": "stream",
     "text": [
      "Spearman Statistical Value ; -0.28022\n",
      "Spearman p_value : 0.00015\n",
      "Total_phenol and malic_acid are not independent(Rejecting H0)\n"
     ]
    }
   ],
   "source": [
    "# H0 -->  Total_phenol and malic acid are independent. there is no corelation\n",
    "# Ha --> Total_phenol and malic acid are not independent.\n",
    "\n",
    "# Checking wheather to accept or reject the null hypothesis\n",
    "# spearman\n",
    "\n",
    "sp_stats, sp_p= spearmanr(wine[\"total_phenols\"], wine[\"malic_acid\"])\n",
    "\n",
    "print(\"Spearman Statistical Value : %.5f\" %sp_stats)\n",
    "print(\"Spearman p_value : %.5f\" %sp_p)\n",
    "\n",
    "alpha = 0.05\n",
    "if sp_p > alpha:\n",
    "    print(\"Total_phenol and malic_acid are independent(Accepting H0)\")\n",
    "else:\n",
    "    print(\"Total_phenol and malic_acid are not independent(Rejecting H0)\")"
   ]
  },
  {
   "cell_type": "code",
   "execution_count": 24,
   "id": "08238617-68ec-4654-bc89-73dcf7cc6578",
   "metadata": {},
   "outputs": [
    {
     "data": {
      "text/html": [
       "<div>\n",
       "<style scoped>\n",
       "    .dataframe tbody tr th:only-of-type {\n",
       "        vertical-align: middle;\n",
       "    }\n",
       "\n",
       "    .dataframe tbody tr th {\n",
       "        vertical-align: top;\n",
       "    }\n",
       "\n",
       "    .dataframe thead th {\n",
       "        text-align: right;\n",
       "    }\n",
       "</style>\n",
       "<table border=\"1\" class=\"dataframe\">\n",
       "  <thead>\n",
       "    <tr style=\"text-align: right;\">\n",
       "      <th></th>\n",
       "      <th>feature1</th>\n",
       "      <th>feature2</th>\n",
       "      <th>feature3</th>\n",
       "      <th>feature4</th>\n",
       "      <th>feature5</th>\n",
       "      <th>target</th>\n",
       "    </tr>\n",
       "  </thead>\n",
       "  <tbody>\n",
       "    <tr>\n",
       "      <th>0</th>\n",
       "      <td>-0.142014</td>\n",
       "      <td>0.889916</td>\n",
       "      <td>-0.212953</td>\n",
       "      <td>-0.727304</td>\n",
       "      <td>0.483113</td>\n",
       "      <td>0</td>\n",
       "    </tr>\n",
       "    <tr>\n",
       "      <th>1</th>\n",
       "      <td>-0.094950</td>\n",
       "      <td>0.438852</td>\n",
       "      <td>-0.141987</td>\n",
       "      <td>-0.470246</td>\n",
       "      <td>0.317178</td>\n",
       "      <td>1</td>\n",
       "    </tr>\n",
       "    <tr>\n",
       "      <th>2</th>\n",
       "      <td>0.770913</td>\n",
       "      <td>-0.162725</td>\n",
       "      <td>1.038009</td>\n",
       "      <td>-0.869430</td>\n",
       "      <td>-0.869951</td>\n",
       "      <td>0</td>\n",
       "    </tr>\n",
       "    <tr>\n",
       "      <th>3</th>\n",
       "      <td>0.274901</td>\n",
       "      <td>-2.285105</td>\n",
       "      <td>0.339706</td>\n",
       "      <td>-1.552836</td>\n",
       "      <td>0.141908</td>\n",
       "      <td>0</td>\n",
       "    </tr>\n",
       "    <tr>\n",
       "      <th>4</th>\n",
       "      <td>-0.265335</td>\n",
       "      <td>0.393926</td>\n",
       "      <td>-0.383927</td>\n",
       "      <td>-0.789381</td>\n",
       "      <td>0.695457</td>\n",
       "      <td>1</td>\n",
       "    </tr>\n",
       "  </tbody>\n",
       "</table>\n",
       "</div>"
      ],
      "text/plain": [
       "   feature1  feature2  feature3  feature4  feature5  target\n",
       "0 -0.142014  0.889916 -0.212953 -0.727304  0.483113       0\n",
       "1 -0.094950  0.438852 -0.141987 -0.470246  0.317178       1\n",
       "2  0.770913 -0.162725  1.038009 -0.869430 -0.869951       0\n",
       "3  0.274901 -2.285105  0.339706 -1.552836  0.141908       0\n",
       "4 -0.265335  0.393926 -0.383927 -0.789381  0.695457       1"
      ]
     },
     "execution_count": 24,
     "metadata": {},
     "output_type": "execute_result"
    }
   ],
   "source": [
    "df.head()"
   ]
  },
  {
   "cell_type": "code",
   "execution_count": 25,
   "id": "e14bd8aa-0c7a-4232-ae20-4a831e902312",
   "metadata": {},
   "outputs": [
    {
     "data": {
      "image/png": "[encoded data removed]",
      "text/plain": [
       "<Figure size 640x480 with 1 Axes>"
      ]
     },
     "metadata": {},
     "output_type": "display_data"
    }
   ],
   "source": [
    "plt.title(\"Feature1 vs Feature2\")\n",
    "sns.scatterplot(x=df[\"feature1\"],y=df[\"feature2\"], alpha=0.7)\n",
    "plt.show()"
   ]
  },
  {
   "cell_type": "code",
   "execution_count": 26,
   "id": "6e4c68ee-d37a-4ceb-962c-77085ce7b342",
   "metadata": {},
   "outputs": [
    {
     "name": "stdout",
     "output_type": "stream",
     "text": [
      "Spearman Statistical Value ; 0.01927\n",
      "Spearman p_value : 0.70081\n",
      "Feature1 and Feature2 are independent(Accepting H0)\n"
     ]
    }
   ],
   "source": [
    "# H0 -->  Feature1 and Feature2 are independent. there is no corelation\n",
    "# Ha --> Feature1 and Feature2 are not independent.\n",
    "# Checking wheather to accept or reject the null hypothesis\n",
    "# spearman\n",
    "\n",
    "sp_stats, sp_p= spearmanr(df[\"feature1\"], df[\"feature2\"])\n",
    "\n",
    "print(\"Spearman Statistical Value ; %.5f\" %sp_stats)\n",
    "print(\"Spearman p_value : %.5f\" %sp_p)\n",
    "\n",
    "alpha = 0.05\n",
    "if sp_p > alpha:\n",
    "    print(\"Feature1 and Feature2 are independent(Accepting H0)\")\n",
    "else:\n",
    "    print(\"Feature1 and feature2 are not independent(Rejecting H0)\")"
   ]
  },
  {
   "cell_type": "markdown",
   "id": "0233c861-7b03-4b93-a2ca-34de54dae703",
   "metadata": {},
   "source": [
    "## T-Test"
   ]
  },
  {
   "cell_type": "code",
   "execution_count": 27,
   "id": "9795fe98-4273-43c7-a70b-bc159f7a0882",
   "metadata": {},
   "outputs": [
    {
     "data": {
      "text/plain": [
       "0      2\n",
       "1      1\n",
       "2      3\n",
       "3      2\n",
       "4      1\n",
       "      ..\n",
       "173    0\n",
       "174    1\n",
       "175    1\n",
       "176    1\n",
       "177    1\n",
       "Name: proanthocyanins, Length: 178, dtype: category\n",
       "Categories (4, int64): [0 < 1 < 2 < 3]"
      ]
     },
     "execution_count": 27,
     "metadata": {},
     "output_type": "execute_result"
    }
   ],
   "source": [
    "cat = pd.cut(wine[\"proanthocyanins\"], bins=4, labels=[0,1,2,3])\n",
    "cat"
   ]
  },
  {
   "cell_type": "code",
   "execution_count": 28,
   "id": "d2c4a7b4-354d-4be0-a942-576b4b42bec4",
   "metadata": {},
   "outputs": [],
   "source": [
    "# cut in pandas are used to convert\n",
    "# sequential --> Discrete\n",
    "# Numerical --> categorical\n",
    "\n",
    "wine[\"proanthocyanins\"]=cat\n",
    "#wine.head()"
   ]
  },
  {
   "cell_type": "code",
   "execution_count": 29,
   "id": "815f601f-8a67-42d1-9cc8-f388e158fee5",
   "metadata": {},
   "outputs": [
    {
     "data": {
      "image/png": "[encoded data removed]",
      "text/plain": [
       "<Figure size 640x480 with 1 Axes>"
      ]
     },
     "metadata": {},
     "output_type": "display_data"
    }
   ],
   "source": [
    "plt.title(\"proanthocyanins vs color Intensiy\")\n",
    "sns.scatterplot(x=wine[\"proanthocyanins\"] ,y=wine[\"color_intensity\"])\n",
    "plt.show()"
   ]
  },
  {
   "cell_type": "code",
   "execution_count": 30,
   "id": "aacf1ef5-247f-4cbf-a2c0-a0604e18205c",
   "metadata": {},
   "outputs": [
    {
     "name": "stdout",
     "output_type": "stream",
     "text": [
      "T Statistical Value : -22.17444\n",
      "p value for t_test : 0.00000\n",
      "proanthocyanins and color_Intensity are independent(Accepting H0)\n"
     ]
    }
   ],
   "source": [
    "# H0 --> proanthocyanins and color intensity are independent\n",
    "# Ha --> proanthocyanins and color are not independent\n",
    "# checking wheather to accept or reject the null hypothesis\n",
    "# T-Test\n",
    "t_stats, t_p = ttest_ind(wine[\"proanthocyanins\"],wine[\"color_intensity\"])\n",
    "\n",
    "print(\"T Statistical Value : %.5f\" %t_stats)\n",
    "print(\"p value for t_test : %.5f\" %t_p)\n",
    "\n",
    "alpha = 0.05\n",
    "if sp_p > alpha:\n",
    "    print(\"proanthocyanins and color_Intensity are independent(Accepting H0)\")\n",
    "else:\n",
    "    print(\"proanthocyanins and color_intensity are not independent(Rejecting H0)\")"
   ]
  },
  {
   "cell_type": "code",
   "execution_count": 31,
   "id": "e27423b5-dcb8-4c80-81b7-42b066afdf55",
   "metadata": {},
   "outputs": [
    {
     "data": {
      "text/html": [
       "<div>\n",
       "<style scoped>\n",
       "    .dataframe tbody tr th:only-of-type {\n",
       "        vertical-align: middle;\n",
       "    }\n",
       "\n",
       "    .dataframe tbody tr th {\n",
       "        vertical-align: top;\n",
       "    }\n",
       "\n",
       "    .dataframe thead th {\n",
       "        text-align: right;\n",
       "    }\n",
       "</style>\n",
       "<table border=\"1\" class=\"dataframe\">\n",
       "  <thead>\n",
       "    <tr style=\"text-align: right;\">\n",
       "      <th></th>\n",
       "      <th>alcohol</th>\n",
       "      <th>malic_acid</th>\n",
       "      <th>ash</th>\n",
       "      <th>alcalinity_of_ash</th>\n",
       "      <th>magnesium</th>\n",
       "      <th>total_phenols</th>\n",
       "      <th>flavanoids</th>\n",
       "      <th>nonflavanoid_phenols</th>\n",
       "      <th>proanthocyanins</th>\n",
       "      <th>color_intensity</th>\n",
       "      <th>hue</th>\n",
       "      <th>od280/od315_of_diluted_wines</th>\n",
       "      <th>proline</th>\n",
       "      <th>target</th>\n",
       "    </tr>\n",
       "  </thead>\n",
       "  <tbody>\n",
       "    <tr>\n",
       "      <th>0</th>\n",
       "      <td>14.23</td>\n",
       "      <td>1.71</td>\n",
       "      <td>2.43</td>\n",
       "      <td>15.6</td>\n",
       "      <td>127.0</td>\n",
       "      <td>2.80</td>\n",
       "      <td>3.06</td>\n",
       "      <td>0.28</td>\n",
       "      <td>2</td>\n",
       "      <td>5.64</td>\n",
       "      <td>1.04</td>\n",
       "      <td>3.92</td>\n",
       "      <td>1065.0</td>\n",
       "      <td>0</td>\n",
       "    </tr>\n",
       "    <tr>\n",
       "      <th>1</th>\n",
       "      <td>13.20</td>\n",
       "      <td>1.78</td>\n",
       "      <td>2.14</td>\n",
       "      <td>11.2</td>\n",
       "      <td>100.0</td>\n",
       "      <td>2.65</td>\n",
       "      <td>2.76</td>\n",
       "      <td>0.26</td>\n",
       "      <td>1</td>\n",
       "      <td>4.38</td>\n",
       "      <td>1.05</td>\n",
       "      <td>3.40</td>\n",
       "      <td>1050.0</td>\n",
       "      <td>0</td>\n",
       "    </tr>\n",
       "    <tr>\n",
       "      <th>2</th>\n",
       "      <td>13.16</td>\n",
       "      <td>2.36</td>\n",
       "      <td>2.67</td>\n",
       "      <td>18.6</td>\n",
       "      <td>101.0</td>\n",
       "      <td>2.80</td>\n",
       "      <td>3.24</td>\n",
       "      <td>0.30</td>\n",
       "      <td>3</td>\n",
       "      <td>5.68</td>\n",
       "      <td>1.03</td>\n",
       "      <td>3.17</td>\n",
       "      <td>1185.0</td>\n",
       "      <td>0</td>\n",
       "    </tr>\n",
       "    <tr>\n",
       "      <th>3</th>\n",
       "      <td>14.37</td>\n",
       "      <td>1.95</td>\n",
       "      <td>2.50</td>\n",
       "      <td>16.8</td>\n",
       "      <td>113.0</td>\n",
       "      <td>3.85</td>\n",
       "      <td>3.49</td>\n",
       "      <td>0.24</td>\n",
       "      <td>2</td>\n",
       "      <td>7.80</td>\n",
       "      <td>0.86</td>\n",
       "      <td>3.45</td>\n",
       "      <td>1480.0</td>\n",
       "      <td>0</td>\n",
       "    </tr>\n",
       "    <tr>\n",
       "      <th>4</th>\n",
       "      <td>13.24</td>\n",
       "      <td>2.59</td>\n",
       "      <td>2.87</td>\n",
       "      <td>21.0</td>\n",
       "      <td>118.0</td>\n",
       "      <td>2.80</td>\n",
       "      <td>2.69</td>\n",
       "      <td>0.39</td>\n",
       "      <td>1</td>\n",
       "      <td>4.32</td>\n",
       "      <td>1.04</td>\n",
       "      <td>2.93</td>\n",
       "      <td>735.0</td>\n",
       "      <td>0</td>\n",
       "    </tr>\n",
       "  </tbody>\n",
       "</table>\n",
       "</div>"
      ],
      "text/plain": [
       "   alcohol  malic_acid   ash  alcalinity_of_ash  magnesium  total_phenols  \\\n",
       "0    14.23        1.71  2.43               15.6      127.0           2.80   \n",
       "1    13.20        1.78  2.14               11.2      100.0           2.65   \n",
       "2    13.16        2.36  2.67               18.6      101.0           2.80   \n",
       "3    14.37        1.95  2.50               16.8      113.0           3.85   \n",
       "4    13.24        2.59  2.87               21.0      118.0           2.80   \n",
       "\n",
       "   flavanoids  nonflavanoid_phenols proanthocyanins  color_intensity   hue  \\\n",
       "0        3.06                  0.28               2             5.64  1.04   \n",
       "1        2.76                  0.26               1             4.38  1.05   \n",
       "2        3.24                  0.30               3             5.68  1.03   \n",
       "3        3.49                  0.24               2             7.80  0.86   \n",
       "4        2.69                  0.39               1             4.32  1.04   \n",
       "\n",
       "   od280/od315_of_diluted_wines  proline  target  \n",
       "0                          3.92   1065.0       0  \n",
       "1                          3.40   1050.0       0  \n",
       "2                          3.17   1185.0       0  \n",
       "3                          3.45   1480.0       0  \n",
       "4                          2.93    735.0       0  "
      ]
     },
     "execution_count": 31,
     "metadata": {},
     "output_type": "execute_result"
    }
   ],
   "source": [
    "wine.head()"
   ]
  },
  {
   "cell_type": "code",
   "execution_count": 32,
   "id": "dcc7b964-c0e6-4b06-9b34-3815c4560db5",
   "metadata": {},
   "outputs": [
    {
     "data": {
      "image/png": "[encoded data removed]",
      "text/plain": [
       "<Figure size 640x480 with 1 Axes>"
      ]
     },
     "metadata": {},
     "output_type": "display_data"
    }
   ],
   "source": [
    "sns.histplot(x=wine[\"proline\"], bins=20, alpha=0.6, legend=False, kde=True)\n",
    "plt.show()"
   ]
  },
  {
   "cell_type": "code",
   "execution_count": 33,
   "id": "5cd5f6b9-30e8-4ca7-93db-843a7f88b459",
   "metadata": {},
   "outputs": [
    {
     "data": {
      "text/plain": [
       "746.8932584269663"
      ]
     },
     "execution_count": 33,
     "metadata": {},
     "output_type": "execute_result"
    }
   ],
   "source": [
    "wine[\"proline\"].mean()"
   ]
  },
  {
   "cell_type": "code",
   "execution_count": 34,
   "id": "48599156-c2a7-4c13-89c3-1030e21f23e3",
   "metadata": {},
   "outputs": [],
   "source": [
    "sample1= np.random.choice(wine[\"proline\"], size=34)\n",
    "sample2= np.random.choice(wine[\"proline\"], size=34)"
   ]
  },
  {
   "cell_type": "code",
   "execution_count": 35,
   "id": "ed0c77ba-64f0-4ece-9da3-97a96008781b",
   "metadata": {},
   "outputs": [
    {
     "name": "stdout",
     "output_type": "stream",
     "text": [
      "t-test statistical vale : -0.31007\n",
      "t-test p value : 0.75748\n",
      "Sample1 and Sample2 are not equal (Accepting H0)\n"
     ]
    }
   ],
   "source": [
    "# H0 --> Sample1 and Sample2 are not equal.\n",
    "# Ha --> Sample1 and sample2 are equal.\n",
    "\n",
    "t_stats, t_p = ttest_ind(sample1, sample2)\n",
    "\n",
    "print(\"t-test statistical vale : %.5f\" %t_stats)\n",
    "print(\"t-test p value : %.5f\" %t_p)\n",
    "\n",
    "alpha=0.05\n",
    "if t_p > alpha:\n",
    "    print(\"Sample1 and Sample2 are not equal (Accepting H0)\")\n",
    "else:\n",
    "    print(\"sample1 and sample2 are equal (Rejecting H0)\")"
   ]
  },
  {
   "cell_type": "code",
   "execution_count": 36,
   "id": "5af5872d-cc90-4851-b3c5-9a4652837d0a",
   "metadata": {},
   "outputs": [
    {
     "data": {
      "text/plain": [
       "736.5294117647059"
      ]
     },
     "execution_count": 36,
     "metadata": {},
     "output_type": "execute_result"
    }
   ],
   "source": [
    "sample1.mean()"
   ]
  },
  {
   "cell_type": "code",
   "execution_count": 37,
   "id": "e910009b-023e-4dcf-8859-79c895f42702",
   "metadata": {},
   "outputs": [
    {
     "data": {
      "text/plain": [
       "760.7941176470588"
      ]
     },
     "execution_count": 37,
     "metadata": {},
     "output_type": "execute_result"
    }
   ],
   "source": [
    "sample2.mean()"
   ]
  },
  {
   "cell_type": "markdown",
   "id": "0ebbbbe2-2f82-42cb-8270-ea15d90c5b4e",
   "metadata": {},
   "source": [
    "## CHI-2 Test / CHI Square Test"
   ]
  },
  {
   "cell_type": "code",
   "execution_count": 38,
   "id": "e8d40d63-c35e-43a3-b672-8a89cc262f35",
   "metadata": {},
   "outputs": [],
   "source": [
    "data = {\"Gender\":np.random.choice([\"Male\", \"Female\"], 80),\n",
    "        \"Subject\":np.random.choice([\"Med\", \"Eng\"], 80)\n",
    "}"
   ]
  },
  {
   "cell_type": "code",
   "execution_count": 39,
   "id": "b0ac84ed-1a39-4554-85fe-d50d2bb53191",
   "metadata": {},
   "outputs": [
    {
     "data": {
      "text/html": [
       "<div>\n",
       "<style scoped>\n",
       "    .dataframe tbody tr th:only-of-type {\n",
       "        vertical-align: middle;\n",
       "    }\n",
       "\n",
       "    .dataframe tbody tr th {\n",
       "        vertical-align: top;\n",
       "    }\n",
       "\n",
       "    .dataframe thead th {\n",
       "        text-align: right;\n",
       "    }\n",
       "</style>\n",
       "<table border=\"1\" class=\"dataframe\">\n",
       "  <thead>\n",
       "    <tr style=\"text-align: right;\">\n",
       "      <th></th>\n",
       "      <th>Gender</th>\n",
       "      <th>Subject</th>\n",
       "    </tr>\n",
       "  </thead>\n",
       "  <tbody>\n",
       "    <tr>\n",
       "      <th>0</th>\n",
       "      <td>Female</td>\n",
       "      <td>Med</td>\n",
       "    </tr>\n",
       "    <tr>\n",
       "      <th>1</th>\n",
       "      <td>Female</td>\n",
       "      <td>Eng</td>\n",
       "    </tr>\n",
       "    <tr>\n",
       "      <th>2</th>\n",
       "      <td>Male</td>\n",
       "      <td>Med</td>\n",
       "    </tr>\n",
       "    <tr>\n",
       "      <th>3</th>\n",
       "      <td>Male</td>\n",
       "      <td>Med</td>\n",
       "    </tr>\n",
       "    <tr>\n",
       "      <th>4</th>\n",
       "      <td>Female</td>\n",
       "      <td>Med</td>\n",
       "    </tr>\n",
       "    <tr>\n",
       "      <th>5</th>\n",
       "      <td>Female</td>\n",
       "      <td>Eng</td>\n",
       "    </tr>\n",
       "    <tr>\n",
       "      <th>6</th>\n",
       "      <td>Female</td>\n",
       "      <td>Eng</td>\n",
       "    </tr>\n",
       "    <tr>\n",
       "      <th>7</th>\n",
       "      <td>Female</td>\n",
       "      <td>Med</td>\n",
       "    </tr>\n",
       "    <tr>\n",
       "      <th>8</th>\n",
       "      <td>Male</td>\n",
       "      <td>Med</td>\n",
       "    </tr>\n",
       "    <tr>\n",
       "      <th>9</th>\n",
       "      <td>Male</td>\n",
       "      <td>Med</td>\n",
       "    </tr>\n",
       "  </tbody>\n",
       "</table>\n",
       "</div>"
      ],
      "text/plain": [
       "   Gender Subject\n",
       "0  Female     Med\n",
       "1  Female     Eng\n",
       "2    Male     Med\n",
       "3    Male     Med\n",
       "4  Female     Med\n",
       "5  Female     Eng\n",
       "6  Female     Eng\n",
       "7  Female     Med\n",
       "8    Male     Med\n",
       "9    Male     Med"
      ]
     },
     "execution_count": 39,
     "metadata": {},
     "output_type": "execute_result"
    }
   ],
   "source": [
    "course =pd.DataFrame(data)\n",
    "course.head(10)"
   ]
  },
  {
   "cell_type": "code",
   "execution_count": 40,
   "id": "dcd38c66-8cc0-40be-afa2-4be589906322",
   "metadata": {},
   "outputs": [
    {
     "data": {
      "text/html": [
       "<div>\n",
       "<style scoped>\n",
       "    .dataframe tbody tr th:only-of-type {\n",
       "        vertical-align: middle;\n",
       "    }\n",
       "\n",
       "    .dataframe tbody tr th {\n",
       "        vertical-align: top;\n",
       "    }\n",
       "\n",
       "    .dataframe thead th {\n",
       "        text-align: right;\n",
       "    }\n",
       "</style>\n",
       "<table border=\"1\" class=\"dataframe\">\n",
       "  <thead>\n",
       "    <tr style=\"text-align: right;\">\n",
       "      <th>Subject</th>\n",
       "      <th>Eng</th>\n",
       "      <th>Med</th>\n",
       "    </tr>\n",
       "    <tr>\n",
       "      <th>Gender</th>\n",
       "      <th></th>\n",
       "      <th></th>\n",
       "    </tr>\n",
       "  </thead>\n",
       "  <tbody>\n",
       "    <tr>\n",
       "      <th>Female</th>\n",
       "      <td>22</td>\n",
       "      <td>18</td>\n",
       "    </tr>\n",
       "    <tr>\n",
       "      <th>Male</th>\n",
       "      <td>20</td>\n",
       "      <td>20</td>\n",
       "    </tr>\n",
       "  </tbody>\n",
       "</table>\n",
       "</div>"
      ],
      "text/plain": [
       "Subject  Eng  Med\n",
       "Gender           \n",
       "Female    22   18\n",
       "Male      20   20"
      ]
     },
     "execution_count": 40,
     "metadata": {},
     "output_type": "execute_result"
    }
   ],
   "source": [
    "crstb = pd.crosstab(course[\"Gender\"],course[\"Subject\"])\n",
    "crstb"
   ]
  },
  {
   "cell_type": "code",
   "execution_count": 41,
   "id": "f5d7024a-1934-40b8-928b-009cdb181626",
   "metadata": {},
   "outputs": [
    {
     "name": "stdout",
     "output_type": "stream",
     "text": [
      "chi2 statistical value : 0.05013\n",
      "chi2 p value : 0.82285\n",
      "More males and females are doing medical and less males and females are doing engineering. (Accepting H0)\n"
     ]
    }
   ],
   "source": [
    "# H0 --> More males and females are doing medical and less males and females are doing engineering.\n",
    "# Ha --> Above statement is not true.\n",
    "\n",
    "chi_stat, chi_p, _, _ = chi2_contingency(crstb)\n",
    "\n",
    "print(\"chi2 statistical value : %.5f\" %chi_stat)\n",
    "print(\"chi2 p value : %.5f\" %chi_p)\n",
    "\n",
    "alpha=0.05\n",
    "if chi_p > alpha:\n",
    "    print(\"More males and females are doing medical and less males and females are doing engineering. (Accepting H0)\")\n",
    "else:\n",
    "    print(\"Above statement is not true. (Rejecting H0)\")"
   ]
  },
  {
   "cell_type": "code",
   "execution_count": null,
   "id": "b17c67cd-339e-43a4-b54d-c10575b8f379",
   "metadata": {},
   "outputs": [],
   "source": []
  }
 ],
 "metadata": {
  "kernelspec": {
   "display_name": "Python 3 (ipykernel)",
   "language": "python",
   "name": "python3"
  },
  "language_info": {
   "codemirror_mode": {
    "name": "ipython",
    "version": 3
   },
   "file_extension": ".py",
   "mimetype": "text/x-python",
   "name": "python",
   "nbconvert_exporter": "python",
   "pygments_lexer": "ipython3",
   "version": "3.11.5"
  }
 },
 "nbformat": 4,
 "nbformat_minor": 5
}
